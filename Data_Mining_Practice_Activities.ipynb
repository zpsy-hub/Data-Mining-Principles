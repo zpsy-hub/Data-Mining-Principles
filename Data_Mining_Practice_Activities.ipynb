{
  "nbformat": 4,
  "nbformat_minor": 0,
  "metadata": {
    "colab": {
      "provenance": [],
      "mount_file_id": "1IK_9QrxcEvABVAAqOLLr4G843pdySeuG",
      "authorship_tag": "ABX9TyMwFgkdkQSg5P773w5PzknM"
    },
    "kernelspec": {
      "name": "python3",
      "display_name": "Python 3"
    },
    "language_info": {
      "name": "python"
    }
  },
  "cells": [
    {
      "cell_type": "markdown",
      "source": [
        "# **Week 1 Practice Activity: Preliminary Dataset Review**\n",
        "\n",
        "Data mining in health and wellness offers numerous impactful applications. It transforms raw nutrition and food tracking data into actionable insights, helping users make informed decisions that support their overall health and wellness goals.\n",
        "\n",
        "\n",
        "\n",
        "In this practice activity, you will be working with a preliminary review of a nutrition and food tracking dataset. The main objective of this exercise is for you to understand the dataset structure and get familiar with the meaning of each feature of the nutritional data.\n",
        "\n",
        "\n",
        "\n",
        "\n",
        "---\n",
        "\n",
        "*Instructions:*\n",
        "*   Download the nutrition dataset here and load it to Jupyter Notebooks.\n",
        "*   Inspect the first few rows and columns using head() to get a sense of the data.\n",
        "*   Review the dataset’s features and identify potential target variables.\n",
        "*   Based on the initial findings, answer the following questions:\n",
        "  *   How many entries does the dataset have?\n",
        "  *   What are the column names, and what kind of data do they contain?\n",
        "  *   Do you notice any missing or unusual values?\n",
        "*   Create a table that lists each feature, describes its meaning, and identifies its type (e.g., numerical, categorical).\n",
        "*   Based on the results, answer the following questions:\n",
        "  *   Which columns are numerical, and which are categorical?  \n",
        "  *   Are there any features that look redundant or unnecessary for analysis?\n"
      ],
      "metadata": {
        "id": "fqlkZuRCGIuK"
      }
    },
    {
      "cell_type": "code",
      "source": [
        "from google.colab import drive\n",
        "drive.mount('/content/drive')"
      ],
      "metadata": {
        "colab": {
          "base_uri": "https://localhost:8080/"
        },
        "id": "D9u253RljbVz",
        "outputId": "2e18f8af-42d3-4f5a-fdfd-accfb0b1f79a"
      },
      "execution_count": 3,
      "outputs": [
        {
          "output_type": "stream",
          "name": "stdout",
          "text": [
            "Drive already mounted at /content/drive; to attempt to forcibly remount, call drive.mount(\"/content/drive\", force_remount=True).\n"
          ]
        }
      ]
    },
    {
      "cell_type": "code",
      "execution_count": 4,
      "metadata": {
        "id": "G_WclTkq2lcz",
        "colab": {
          "base_uri": "https://localhost:8080/"
        },
        "outputId": "b4539b23-145f-462a-b820-6db9e0b460f0"
      },
      "outputs": [
        {
          "output_type": "stream",
          "name": "stdout",
          "text": [
            "        food_item  calories  protein  carbs  fats  meal_time\n",
            "0           Apple      95.0      0.5   25.0   0.3  Breakfast\n",
            "1          Banana     105.0      1.3   27.0   0.4      Snack\n",
            "2  Chicken Breast     165.0     31.0    0.0   3.6      Lunch\n",
            "3           Steak     679.0     62.0    0.0  48.0     Dinner\n",
            "4           Salad     150.0      2.0   15.0   7.0      Lunch\n"
          ]
        }
      ],
      "source": [
        "import pandas as pd\n",
        "\n",
        "df = pd.read_csv('/content/drive/MyDrive/3rd year 2024-25/Term 2/Data Mining Principles/nutrition_data.csv')\n",
        "\n",
        "# Inspect the first few rows and columns using head() to get a sense of the data.\n",
        "print(df.head())\n"
      ]
    },
    {
      "cell_type": "code",
      "source": [
        "# How many entries does the dataset have?\n",
        "\n",
        "num_rows = df.shape[0]\n",
        "print(f\"The DataFrame has {num_rows} rows.\")\n"
      ],
      "metadata": {
        "colab": {
          "base_uri": "https://localhost:8080/"
        },
        "id": "hh2Mi97NCXIK",
        "outputId": "b657f1f5-0c06-43db-bf8c-d82143e892cb"
      },
      "execution_count": 5,
      "outputs": [
        {
          "output_type": "stream",
          "name": "stdout",
          "text": [
            "The DataFrame has 105 rows.\n"
          ]
        }
      ]
    },
    {
      "cell_type": "code",
      "source": [
        "# What are the column names, and what kind of data do they contain?\n",
        "df.info()\n",
        "\n"
      ],
      "metadata": {
        "colab": {
          "base_uri": "https://localhost:8080/"
        },
        "id": "r-yjDPdWC53P",
        "outputId": "49fd3b96-1b91-4a58-e7b8-32c0b28319ab"
      },
      "execution_count": 6,
      "outputs": [
        {
          "output_type": "stream",
          "name": "stdout",
          "text": [
            "<class 'pandas.core.frame.DataFrame'>\n",
            "RangeIndex: 105 entries, 0 to 104\n",
            "Data columns (total 6 columns):\n",
            " #   Column     Non-Null Count  Dtype  \n",
            "---  ------     --------------  -----  \n",
            " 0   food_item  105 non-null    object \n",
            " 1   calories   103 non-null    float64\n",
            " 2   protein    104 non-null    float64\n",
            " 3   carbs      104 non-null    float64\n",
            " 4   fats       105 non-null    float64\n",
            " 5   meal_time  105 non-null    object \n",
            "dtypes: float64(4), object(2)\n",
            "memory usage: 5.0+ KB\n"
          ]
        }
      ]
    },
    {
      "cell_type": "code",
      "source": [
        "df.dtypes\n"
      ],
      "metadata": {
        "colab": {
          "base_uri": "https://localhost:8080/",
          "height": 272
        },
        "id": "7vhAxkQpkGRr",
        "outputId": "7b03125b-b14b-4a6c-a4f5-ff165ef8bc0f"
      },
      "execution_count": 7,
      "outputs": [
        {
          "output_type": "execute_result",
          "data": {
            "text/plain": [
              "food_item     object\n",
              "calories     float64\n",
              "protein      float64\n",
              "carbs        float64\n",
              "fats         float64\n",
              "meal_time     object\n",
              "dtype: object"
            ],
            "text/html": [
              "<div>\n",
              "<style scoped>\n",
              "    .dataframe tbody tr th:only-of-type {\n",
              "        vertical-align: middle;\n",
              "    }\n",
              "\n",
              "    .dataframe tbody tr th {\n",
              "        vertical-align: top;\n",
              "    }\n",
              "\n",
              "    .dataframe thead th {\n",
              "        text-align: right;\n",
              "    }\n",
              "</style>\n",
              "<table border=\"1\" class=\"dataframe\">\n",
              "  <thead>\n",
              "    <tr style=\"text-align: right;\">\n",
              "      <th></th>\n",
              "      <th>0</th>\n",
              "    </tr>\n",
              "  </thead>\n",
              "  <tbody>\n",
              "    <tr>\n",
              "      <th>food_item</th>\n",
              "      <td>object</td>\n",
              "    </tr>\n",
              "    <tr>\n",
              "      <th>calories</th>\n",
              "      <td>float64</td>\n",
              "    </tr>\n",
              "    <tr>\n",
              "      <th>protein</th>\n",
              "      <td>float64</td>\n",
              "    </tr>\n",
              "    <tr>\n",
              "      <th>carbs</th>\n",
              "      <td>float64</td>\n",
              "    </tr>\n",
              "    <tr>\n",
              "      <th>fats</th>\n",
              "      <td>float64</td>\n",
              "    </tr>\n",
              "    <tr>\n",
              "      <th>meal_time</th>\n",
              "      <td>object</td>\n",
              "    </tr>\n",
              "  </tbody>\n",
              "</table>\n",
              "</div><br><label><b>dtype:</b> object</label>"
            ]
          },
          "metadata": {},
          "execution_count": 7
        }
      ]
    },
    {
      "cell_type": "code",
      "source": [
        "# Do you notice any missing or unusual values?\n",
        "df.isnull().sum()\n"
      ],
      "metadata": {
        "colab": {
          "base_uri": "https://localhost:8080/",
          "height": 272
        },
        "id": "PqpcyNXuD6l9",
        "outputId": "005ed27a-2df5-485e-82ef-2f92e5759f81"
      },
      "execution_count": 8,
      "outputs": [
        {
          "output_type": "execute_result",
          "data": {
            "text/plain": [
              "food_item    0\n",
              "calories     2\n",
              "protein      1\n",
              "carbs        1\n",
              "fats         0\n",
              "meal_time    0\n",
              "dtype: int64"
            ],
            "text/html": [
              "<div>\n",
              "<style scoped>\n",
              "    .dataframe tbody tr th:only-of-type {\n",
              "        vertical-align: middle;\n",
              "    }\n",
              "\n",
              "    .dataframe tbody tr th {\n",
              "        vertical-align: top;\n",
              "    }\n",
              "\n",
              "    .dataframe thead th {\n",
              "        text-align: right;\n",
              "    }\n",
              "</style>\n",
              "<table border=\"1\" class=\"dataframe\">\n",
              "  <thead>\n",
              "    <tr style=\"text-align: right;\">\n",
              "      <th></th>\n",
              "      <th>0</th>\n",
              "    </tr>\n",
              "  </thead>\n",
              "  <tbody>\n",
              "    <tr>\n",
              "      <th>food_item</th>\n",
              "      <td>0</td>\n",
              "    </tr>\n",
              "    <tr>\n",
              "      <th>calories</th>\n",
              "      <td>2</td>\n",
              "    </tr>\n",
              "    <tr>\n",
              "      <th>protein</th>\n",
              "      <td>1</td>\n",
              "    </tr>\n",
              "    <tr>\n",
              "      <th>carbs</th>\n",
              "      <td>1</td>\n",
              "    </tr>\n",
              "    <tr>\n",
              "      <th>fats</th>\n",
              "      <td>0</td>\n",
              "    </tr>\n",
              "    <tr>\n",
              "      <th>meal_time</th>\n",
              "      <td>0</td>\n",
              "    </tr>\n",
              "  </tbody>\n",
              "</table>\n",
              "</div><br><label><b>dtype:</b> int64</label>"
            ]
          },
          "metadata": {},
          "execution_count": 8
        }
      ]
    },
    {
      "cell_type": "code",
      "source": [
        "# Create a table that lists each feature, describes its meaning, and identifies its type (e.g., numerical, categorical).\n",
        "import pandas as pd\n",
        "\n",
        "data = {\n",
        "    'Feature': ['food_item', 'calories', 'protein', 'carbs', 'fats', 'meal_time'],\n",
        "    'Description': ['Name of the food', 'Total calories per serving', 'Protein content per serving',\n",
        "                    'Carbohydrate content per serving', 'Fat content per serving',\n",
        "                    'Time of day the food was consumed'],\n",
        "    'Type': ['Categorical', 'Numerical', 'Numerical', 'Numerical', 'Numerical', 'Categorical']\n",
        "}\n",
        "\n",
        "df1 = pd.DataFrame(data)\n",
        "\n",
        "# table styles\n",
        "df1.style.set_table_styles([\n",
        "    {'selector': 'th', 'props': [('text-align', 'left')]},\n",
        "    {'selector': 'td', 'props': [('text-align', 'left')]}\n",
        "])"
      ],
      "metadata": {
        "colab": {
          "base_uri": "https://localhost:8080/",
          "height": 237
        },
        "id": "uu_8P7EjvC0p",
        "outputId": "8d9db16a-a4d4-4c4d-a85f-b9bd49771eaa"
      },
      "execution_count": 9,
      "outputs": [
        {
          "output_type": "execute_result",
          "data": {
            "text/plain": [
              "<pandas.io.formats.style.Styler at 0x7c392c3f12a0>"
            ],
            "text/html": [
              "<style type=\"text/css\">\n",
              "#T_2afef th {\n",
              "  text-align: left;\n",
              "}\n",
              "#T_2afef td {\n",
              "  text-align: left;\n",
              "}\n",
              "</style>\n",
              "<table id=\"T_2afef\" class=\"dataframe\">\n",
              "  <thead>\n",
              "    <tr>\n",
              "      <th class=\"blank level0\" >&nbsp;</th>\n",
              "      <th id=\"T_2afef_level0_col0\" class=\"col_heading level0 col0\" >Feature</th>\n",
              "      <th id=\"T_2afef_level0_col1\" class=\"col_heading level0 col1\" >Description</th>\n",
              "      <th id=\"T_2afef_level0_col2\" class=\"col_heading level0 col2\" >Type</th>\n",
              "    </tr>\n",
              "  </thead>\n",
              "  <tbody>\n",
              "    <tr>\n",
              "      <th id=\"T_2afef_level0_row0\" class=\"row_heading level0 row0\" >0</th>\n",
              "      <td id=\"T_2afef_row0_col0\" class=\"data row0 col0\" >food_item</td>\n",
              "      <td id=\"T_2afef_row0_col1\" class=\"data row0 col1\" >Name of the food</td>\n",
              "      <td id=\"T_2afef_row0_col2\" class=\"data row0 col2\" >Categorical</td>\n",
              "    </tr>\n",
              "    <tr>\n",
              "      <th id=\"T_2afef_level0_row1\" class=\"row_heading level0 row1\" >1</th>\n",
              "      <td id=\"T_2afef_row1_col0\" class=\"data row1 col0\" >calories</td>\n",
              "      <td id=\"T_2afef_row1_col1\" class=\"data row1 col1\" >Total calories per serving</td>\n",
              "      <td id=\"T_2afef_row1_col2\" class=\"data row1 col2\" >Numerical</td>\n",
              "    </tr>\n",
              "    <tr>\n",
              "      <th id=\"T_2afef_level0_row2\" class=\"row_heading level0 row2\" >2</th>\n",
              "      <td id=\"T_2afef_row2_col0\" class=\"data row2 col0\" >protein</td>\n",
              "      <td id=\"T_2afef_row2_col1\" class=\"data row2 col1\" >Protein content per serving</td>\n",
              "      <td id=\"T_2afef_row2_col2\" class=\"data row2 col2\" >Numerical</td>\n",
              "    </tr>\n",
              "    <tr>\n",
              "      <th id=\"T_2afef_level0_row3\" class=\"row_heading level0 row3\" >3</th>\n",
              "      <td id=\"T_2afef_row3_col0\" class=\"data row3 col0\" >carbs</td>\n",
              "      <td id=\"T_2afef_row3_col1\" class=\"data row3 col1\" >Carbohydrate content per serving</td>\n",
              "      <td id=\"T_2afef_row3_col2\" class=\"data row3 col2\" >Numerical</td>\n",
              "    </tr>\n",
              "    <tr>\n",
              "      <th id=\"T_2afef_level0_row4\" class=\"row_heading level0 row4\" >4</th>\n",
              "      <td id=\"T_2afef_row4_col0\" class=\"data row4 col0\" >fats</td>\n",
              "      <td id=\"T_2afef_row4_col1\" class=\"data row4 col1\" >Fat content per serving</td>\n",
              "      <td id=\"T_2afef_row4_col2\" class=\"data row4 col2\" >Numerical</td>\n",
              "    </tr>\n",
              "    <tr>\n",
              "      <th id=\"T_2afef_level0_row5\" class=\"row_heading level0 row5\" >5</th>\n",
              "      <td id=\"T_2afef_row5_col0\" class=\"data row5 col0\" >meal_time</td>\n",
              "      <td id=\"T_2afef_row5_col1\" class=\"data row5 col1\" >Time of day the food was consumed</td>\n",
              "      <td id=\"T_2afef_row5_col2\" class=\"data row5 col2\" >Categorical</td>\n",
              "    </tr>\n",
              "  </tbody>\n",
              "</table>\n"
            ]
          },
          "metadata": {},
          "execution_count": 9
        }
      ]
    },
    {
      "cell_type": "markdown",
      "source": [
        "Table styling source: https://pandas.pydata.org/docs/user_guide/style.html"
      ],
      "metadata": {
        "id": "7toh6K2guOcm"
      }
    },
    {
      "cell_type": "code",
      "source": [
        "# 1. Which columns are numerical, and which are categorical?\n",
        "numerical_columns = df.select_dtypes(include=['number']).columns\n",
        "categorical_columns = df.select_dtypes(include=['object']).columns\n",
        "\n",
        "print(\"Numerical Columns:\")\n",
        "print(numerical_columns)\n",
        "\n",
        "print(\"\\nCategorical Columns:\")\n",
        "print(categorical_columns)"
      ],
      "metadata": {
        "colab": {
          "base_uri": "https://localhost:8080/"
        },
        "id": "xiN8eMI7TeAC",
        "outputId": "cc944e7e-3cf3-42e5-bebe-5185753fb73a"
      },
      "execution_count": 10,
      "outputs": [
        {
          "output_type": "stream",
          "name": "stdout",
          "text": [
            "Numerical Columns:\n",
            "Index(['calories', 'protein', 'carbs', 'fats'], dtype='object')\n",
            "\n",
            "Categorical Columns:\n",
            "Index(['food_item', 'meal_time'], dtype='object')\n"
          ]
        }
      ]
    },
    {
      "cell_type": "code",
      "source": [
        "# 2. Are there any features that look redundant or unnecessary for analysis?\n",
        "# There are multiple duplicate rows. Pizza also shows up multiple times with different missing values and negative calories."
      ],
      "metadata": {
        "id": "XppLXdcsXu90"
      },
      "execution_count": 11,
      "outputs": []
    },
    {
      "cell_type": "code",
      "source": [
        "# Check for duplicate rows\n",
        "duplicate_rows = df[df.duplicated()]\n",
        "\n",
        "# Print the duplicate rows\n",
        "print(\"Duplicate Rows:\")\n",
        "print(duplicate_rows)"
      ],
      "metadata": {
        "colab": {
          "base_uri": "https://localhost:8080/"
        },
        "id": "g8OPdTSYkXaT",
        "outputId": "4dcfd74d-c00d-4083-a02e-987b397f7da3"
      },
      "execution_count": 12,
      "outputs": [
        {
          "output_type": "stream",
          "name": "stdout",
          "text": [
            "Duplicate Rows:\n",
            "          food_item  calories  protein  carbs  fats  meal_time\n",
            "10            Apple      95.0      0.5   25.0   0.3  Breakfast\n",
            "11           Banana     105.0      1.3   27.0   0.4      Snack\n",
            "12   Chicken Breast     165.0     31.0    0.0   3.6      Lunch\n",
            "13            Steak     679.0     62.0    0.0  48.0     Dinner\n",
            "14            Salad     150.0      2.0   15.0   7.0      Lunch\n",
            "..              ...       ...      ...    ...   ...        ...\n",
            "100           Pizza       NaN     12.0   36.0  10.0     Dinner\n",
            "101            Rice     206.0      4.3   45.0   0.5      Lunch\n",
            "102            Fish     232.0     26.0    0.0   5.0     Dinner\n",
            "103          Yogurt      59.0     10.0   12.0   0.4      Snack\n",
            "104           Pasta     131.0      5.0   25.0   1.1      Lunch\n",
            "\n",
            "[90 rows x 6 columns]\n"
          ]
        }
      ]
    },
    {
      "cell_type": "markdown",
      "source": [
        "# **Week 2 Practice Activity No. 1: Handling Missing Data**"
      ],
      "metadata": {
        "id": "7p_hYW7zHK5A"
      }
    },
    {
      "cell_type": "markdown",
      "source": [
        "1.   How many missing values are there for each column?\n",
        "2.   Did you drop any rows or fill them with specific values? Why?\n",
        "\n",
        "\n"
      ],
      "metadata": {
        "id": "dDZkhg7jk9VS"
      }
    },
    {
      "cell_type": "code",
      "source": [
        "df.isnull().sum()"
      ],
      "metadata": {
        "colab": {
          "base_uri": "https://localhost:8080/",
          "height": 272
        },
        "id": "8feimrw5lCCZ",
        "outputId": "7f2680b3-8b90-4a1e-dfe9-a16e39765b53"
      },
      "execution_count": 13,
      "outputs": [
        {
          "output_type": "execute_result",
          "data": {
            "text/plain": [
              "food_item    0\n",
              "calories     2\n",
              "protein      1\n",
              "carbs        1\n",
              "fats         0\n",
              "meal_time    0\n",
              "dtype: int64"
            ],
            "text/html": [
              "<div>\n",
              "<style scoped>\n",
              "    .dataframe tbody tr th:only-of-type {\n",
              "        vertical-align: middle;\n",
              "    }\n",
              "\n",
              "    .dataframe tbody tr th {\n",
              "        vertical-align: top;\n",
              "    }\n",
              "\n",
              "    .dataframe thead th {\n",
              "        text-align: right;\n",
              "    }\n",
              "</style>\n",
              "<table border=\"1\" class=\"dataframe\">\n",
              "  <thead>\n",
              "    <tr style=\"text-align: right;\">\n",
              "      <th></th>\n",
              "      <th>0</th>\n",
              "    </tr>\n",
              "  </thead>\n",
              "  <tbody>\n",
              "    <tr>\n",
              "      <th>food_item</th>\n",
              "      <td>0</td>\n",
              "    </tr>\n",
              "    <tr>\n",
              "      <th>calories</th>\n",
              "      <td>2</td>\n",
              "    </tr>\n",
              "    <tr>\n",
              "      <th>protein</th>\n",
              "      <td>1</td>\n",
              "    </tr>\n",
              "    <tr>\n",
              "      <th>carbs</th>\n",
              "      <td>1</td>\n",
              "    </tr>\n",
              "    <tr>\n",
              "      <th>fats</th>\n",
              "      <td>0</td>\n",
              "    </tr>\n",
              "    <tr>\n",
              "      <th>meal_time</th>\n",
              "      <td>0</td>\n",
              "    </tr>\n",
              "  </tbody>\n",
              "</table>\n",
              "</div><br><label><b>dtype:</b> int64</label>"
            ]
          },
          "metadata": {},
          "execution_count": 13
        }
      ]
    },
    {
      "cell_type": "code",
      "source": [
        "# Show rows with missing values\n",
        "print(df[df.isnull().any(axis=1)])"
      ],
      "metadata": {
        "id": "iXdBofZuxfZT",
        "colab": {
          "base_uri": "https://localhost:8080/"
        },
        "outputId": "6ff7c256-6034-4c51-dbc8-770836b71441"
      },
      "execution_count": 15,
      "outputs": [
        {
          "output_type": "stream",
          "name": "stdout",
          "text": [
            "    food_item  calories  protein  carbs  fats meal_time\n",
            "5       Pizza       NaN     12.0   36.0  10.0    Dinner\n",
            "15      Pizza     285.0      NaN   36.0  10.0    Dinner\n",
            "25      Pizza     285.0     12.0    NaN  10.0    Dinner\n",
            "100     Pizza       NaN     12.0   36.0  10.0    Dinner\n"
          ]
        }
      ]
    },
    {
      "cell_type": "markdown",
      "source": [
        "Source: https://stackoverflow.com/questions/30447083/python-pandas-return-only-those-rows-which-have-missing-values"
      ],
      "metadata": {
        "id": "4djbwEHjrKvo"
      }
    },
    {
      "cell_type": "code",
      "source": [
        "print(df.isnull())"
      ],
      "metadata": {
        "colab": {
          "base_uri": "https://localhost:8080/"
        },
        "id": "5ems4601q5Zg",
        "outputId": "4e098d57-6976-4087-b5ae-4b130782499b"
      },
      "execution_count": 16,
      "outputs": [
        {
          "output_type": "stream",
          "name": "stdout",
          "text": [
            "     food_item  calories  protein  carbs   fats  meal_time\n",
            "0        False     False    False  False  False      False\n",
            "1        False     False    False  False  False      False\n",
            "2        False     False    False  False  False      False\n",
            "3        False     False    False  False  False      False\n",
            "4        False     False    False  False  False      False\n",
            "..         ...       ...      ...    ...    ...        ...\n",
            "100      False      True    False  False  False      False\n",
            "101      False     False    False  False  False      False\n",
            "102      False     False    False  False  False      False\n",
            "103      False     False    False  False  False      False\n",
            "104      False     False    False  False  False      False\n",
            "\n",
            "[105 rows x 6 columns]\n"
          ]
        }
      ]
    },
    {
      "cell_type": "markdown",
      "source": [
        "# **Week 2 Practice Activity No. 2: Data Transformation, Normalization and Feature Engineering**"
      ],
      "metadata": {
        "id": "a1QHkxSIHOzL"
      }
    }
  ]
}