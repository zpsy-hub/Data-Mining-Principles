{
  "nbformat": 4,
  "nbformat_minor": 0,
  "metadata": {
    "colab": {
      "provenance": [],
      "mount_file_id": "1IK_9QrxcEvABVAAqOLLr4G843pdySeuG",
      "authorship_tag": "ABX9TyOIywyDew3C5XlhpVEONz2y"
    },
    "kernelspec": {
      "name": "python3",
      "display_name": "Python 3"
    },
    "language_info": {
      "name": "python"
    }
  },
  "cells": [
    {
      "cell_type": "markdown",
      "source": [
        "# **Week 1 Practice Activity: Preliminary Dataset Review**\n",
        "\n",
        "Data mining in health and wellness offers numerous impactful applications. It transforms raw nutrition and food tracking data into actionable insights, helping users make informed decisions that support their overall health and wellness goals.\n",
        "\n",
        "\n",
        "\n",
        "In this practice activity, you will be working with a preliminary review of a nutrition and food tracking dataset. The main objective of this exercise is for you to understand the dataset structure and get familiar with the meaning of each feature of the nutritional data.\n",
        "\n",
        "\n",
        "\n",
        "\n",
        "---\n",
        "\n",
        "*Instructions:*\n",
        "*   Download the nutrition dataset here and load it to Jupyter Notebooks.\n",
        "*   Inspect the first few rows and columns using head() to get a sense of the data.\n",
        "*   Review the dataset’s features and identify potential target variables.\n",
        "*   Based on the initial findings, answer the following questions:\n",
        "  *   How many entries does the dataset have?\n",
        "  *   What are the column names, and what kind of data do they contain?\n",
        "  *   Do you notice any missing or unusual values?\n",
        "*   Create a table that lists each feature, describes its meaning, and identifies its type (e.g., numerical, categorical).\n",
        "*   Based on the results, answer the following questions:\n",
        "  *   Which columns are numerical, and which are categorical?  \n",
        "  *   Are there any features that look redundant or unnecessary for analysis?\n"
      ],
      "metadata": {
        "id": "fqlkZuRCGIuK"
      }
    },
    {
      "cell_type": "code",
      "source": [
        "from google.colab import drive\n",
        "drive.mount('/content/drive')"
      ],
      "metadata": {
        "colab": {
          "base_uri": "https://localhost:8080/"
        },
        "id": "D9u253RljbVz",
        "outputId": "2e18f8af-42d3-4f5a-fdfd-accfb0b1f79a"
      },
      "execution_count": null,
      "outputs": [
        {
          "output_type": "stream",
          "name": "stdout",
          "text": [
            "Drive already mounted at /content/drive; to attempt to forcibly remount, call drive.mount(\"/content/drive\", force_remount=True).\n"
          ]
        }
      ]
    },
    {
      "cell_type": "code",
      "execution_count": 2,
      "metadata": {
        "id": "G_WclTkq2lcz",
        "colab": {
          "base_uri": "https://localhost:8080/"
        },
        "outputId": "3c2f581b-5d07-4121-e0e0-4f27b3613172"
      },
      "outputs": [
        {
          "output_type": "stream",
          "name": "stdout",
          "text": [
            "        food_item  calories  protein  carbs  fats  meal_time\n",
            "0           Apple      95.0      0.5   25.0   0.3  Breakfast\n",
            "1          Banana     105.0      1.3   27.0   0.4      Snack\n",
            "2  Chicken Breast     165.0     31.0    0.0   3.6      Lunch\n",
            "3           Steak     679.0     62.0    0.0  48.0     Dinner\n",
            "4           Salad     150.0      2.0   15.0   7.0      Lunch\n"
          ]
        }
      ],
      "source": [
        "import pandas as pd\n",
        "\n",
        "df = pd.read_csv('/content/drive/MyDrive/3rd year 2024-25/Term 2/Data Mining Principles/nutrition_data.csv')\n",
        "\n",
        "# Inspect the first few rows and columns using head() to get a sense of the data.\n",
        "print(df.head())\n"
      ]
    },
    {
      "cell_type": "code",
      "source": [
        "# How many entries does the dataset have?\n",
        "\n",
        "num_rows = df.shape[0]\n",
        "print(f\"The DataFrame has {num_rows} rows.\")\n"
      ],
      "metadata": {
        "colab": {
          "base_uri": "https://localhost:8080/"
        },
        "id": "hh2Mi97NCXIK",
        "outputId": "b657f1f5-0c06-43db-bf8c-d82143e892cb"
      },
      "execution_count": null,
      "outputs": [
        {
          "output_type": "stream",
          "name": "stdout",
          "text": [
            "The DataFrame has 105 rows.\n"
          ]
        }
      ]
    },
    {
      "cell_type": "code",
      "source": [
        "# What are the column names, and what kind of data do they contain?\n",
        "df.info()\n",
        "\n"
      ],
      "metadata": {
        "colab": {
          "base_uri": "https://localhost:8080/"
        },
        "id": "r-yjDPdWC53P",
        "outputId": "49fd3b96-1b91-4a58-e7b8-32c0b28319ab"
      },
      "execution_count": null,
      "outputs": [
        {
          "output_type": "stream",
          "name": "stdout",
          "text": [
            "<class 'pandas.core.frame.DataFrame'>\n",
            "RangeIndex: 105 entries, 0 to 104\n",
            "Data columns (total 6 columns):\n",
            " #   Column     Non-Null Count  Dtype  \n",
            "---  ------     --------------  -----  \n",
            " 0   food_item  105 non-null    object \n",
            " 1   calories   103 non-null    float64\n",
            " 2   protein    104 non-null    float64\n",
            " 3   carbs      104 non-null    float64\n",
            " 4   fats       105 non-null    float64\n",
            " 5   meal_time  105 non-null    object \n",
            "dtypes: float64(4), object(2)\n",
            "memory usage: 5.0+ KB\n"
          ]
        }
      ]
    },
    {
      "cell_type": "code",
      "source": [
        "df.dtypes\n"
      ],
      "metadata": {
        "colab": {
          "base_uri": "https://localhost:8080/",
          "height": 272
        },
        "id": "7vhAxkQpkGRr",
        "outputId": "7b03125b-b14b-4a6c-a4f5-ff165ef8bc0f"
      },
      "execution_count": null,
      "outputs": [
        {
          "output_type": "execute_result",
          "data": {
            "text/plain": [
              "food_item     object\n",
              "calories     float64\n",
              "protein      float64\n",
              "carbs        float64\n",
              "fats         float64\n",
              "meal_time     object\n",
              "dtype: object"
            ],
            "text/html": [
              "<div>\n",
              "<style scoped>\n",
              "    .dataframe tbody tr th:only-of-type {\n",
              "        vertical-align: middle;\n",
              "    }\n",
              "\n",
              "    .dataframe tbody tr th {\n",
              "        vertical-align: top;\n",
              "    }\n",
              "\n",
              "    .dataframe thead th {\n",
              "        text-align: right;\n",
              "    }\n",
              "</style>\n",
              "<table border=\"1\" class=\"dataframe\">\n",
              "  <thead>\n",
              "    <tr style=\"text-align: right;\">\n",
              "      <th></th>\n",
              "      <th>0</th>\n",
              "    </tr>\n",
              "  </thead>\n",
              "  <tbody>\n",
              "    <tr>\n",
              "      <th>food_item</th>\n",
              "      <td>object</td>\n",
              "    </tr>\n",
              "    <tr>\n",
              "      <th>calories</th>\n",
              "      <td>float64</td>\n",
              "    </tr>\n",
              "    <tr>\n",
              "      <th>protein</th>\n",
              "      <td>float64</td>\n",
              "    </tr>\n",
              "    <tr>\n",
              "      <th>carbs</th>\n",
              "      <td>float64</td>\n",
              "    </tr>\n",
              "    <tr>\n",
              "      <th>fats</th>\n",
              "      <td>float64</td>\n",
              "    </tr>\n",
              "    <tr>\n",
              "      <th>meal_time</th>\n",
              "      <td>object</td>\n",
              "    </tr>\n",
              "  </tbody>\n",
              "</table>\n",
              "</div><br><label><b>dtype:</b> object</label>"
            ]
          },
          "metadata": {},
          "execution_count": 7
        }
      ]
    },
    {
      "cell_type": "code",
      "source": [
        "print(df.describe())"
      ],
      "metadata": {
        "colab": {
          "base_uri": "https://localhost:8080/"
        },
        "id": "HdRDF8YL7cm9",
        "outputId": "b4861d36-f469-4795-f7e4-8e7041558f0c"
      },
      "execution_count": 3,
      "outputs": [
        {
          "output_type": "stream",
          "name": "stdout",
          "text": [
            "         calories     protein       carbs        fats\n",
            "count  103.000000  104.000000  104.000000  105.000000\n",
            "mean   204.640777   18.022115   18.576923    7.428571\n",
            "std    169.571655   33.361937   15.134794   13.608762\n",
            "min    -50.000000    0.500000    0.000000    0.300000\n",
            "25%    105.000000    2.000000    0.000000    0.400000\n",
            "50%    150.000000    7.500000   20.000000    1.100000\n",
            "75%    232.000000   26.000000   27.000000    7.000000\n",
            "max    679.000000  300.000000   45.000000   48.000000\n"
          ]
        }
      ]
    },
    {
      "cell_type": "code",
      "source": [
        "# Do you notice any missing or unusual values?\n",
        "df.isnull().sum()\n"
      ],
      "metadata": {
        "colab": {
          "base_uri": "https://localhost:8080/",
          "height": 272
        },
        "id": "PqpcyNXuD6l9",
        "outputId": "005ed27a-2df5-485e-82ef-2f92e5759f81"
      },
      "execution_count": null,
      "outputs": [
        {
          "output_type": "execute_result",
          "data": {
            "text/plain": [
              "food_item    0\n",
              "calories     2\n",
              "protein      1\n",
              "carbs        1\n",
              "fats         0\n",
              "meal_time    0\n",
              "dtype: int64"
            ],
            "text/html": [
              "<div>\n",
              "<style scoped>\n",
              "    .dataframe tbody tr th:only-of-type {\n",
              "        vertical-align: middle;\n",
              "    }\n",
              "\n",
              "    .dataframe tbody tr th {\n",
              "        vertical-align: top;\n",
              "    }\n",
              "\n",
              "    .dataframe thead th {\n",
              "        text-align: right;\n",
              "    }\n",
              "</style>\n",
              "<table border=\"1\" class=\"dataframe\">\n",
              "  <thead>\n",
              "    <tr style=\"text-align: right;\">\n",
              "      <th></th>\n",
              "      <th>0</th>\n",
              "    </tr>\n",
              "  </thead>\n",
              "  <tbody>\n",
              "    <tr>\n",
              "      <th>food_item</th>\n",
              "      <td>0</td>\n",
              "    </tr>\n",
              "    <tr>\n",
              "      <th>calories</th>\n",
              "      <td>2</td>\n",
              "    </tr>\n",
              "    <tr>\n",
              "      <th>protein</th>\n",
              "      <td>1</td>\n",
              "    </tr>\n",
              "    <tr>\n",
              "      <th>carbs</th>\n",
              "      <td>1</td>\n",
              "    </tr>\n",
              "    <tr>\n",
              "      <th>fats</th>\n",
              "      <td>0</td>\n",
              "    </tr>\n",
              "    <tr>\n",
              "      <th>meal_time</th>\n",
              "      <td>0</td>\n",
              "    </tr>\n",
              "  </tbody>\n",
              "</table>\n",
              "</div><br><label><b>dtype:</b> int64</label>"
            ]
          },
          "metadata": {},
          "execution_count": 8
        }
      ]
    },
    {
      "cell_type": "code",
      "source": [
        "# Create a table that lists each feature, describes its meaning, and identifies its type (e.g., numerical, categorical).\n",
        "import pandas as pd\n",
        "\n",
        "data = {\n",
        "    'Feature': ['food_item', 'calories', 'protein', 'carbs', 'fats', 'meal_time'],\n",
        "    'Description': ['Name of the food', 'Total calories per serving', 'Protein content per serving',\n",
        "                    'Carbohydrate content per serving', 'Fat content per serving',\n",
        "                    'Time of day the food was consumed'],\n",
        "    'Type': ['Categorical', 'Numerical', 'Numerical', 'Numerical', 'Numerical', 'Categorical']\n",
        "}\n",
        "\n",
        "df1 = pd.DataFrame(data)\n",
        "\n",
        "# table styles\n",
        "df1.style.set_table_styles([\n",
        "    {'selector': 'th', 'props': [('text-align', 'left')]},\n",
        "    {'selector': 'td', 'props': [('text-align', 'left')]}\n",
        "])"
      ],
      "metadata": {
        "colab": {
          "base_uri": "https://localhost:8080/",
          "height": 237
        },
        "id": "uu_8P7EjvC0p",
        "outputId": "8d9db16a-a4d4-4c4d-a85f-b9bd49771eaa"
      },
      "execution_count": null,
      "outputs": [
        {
          "output_type": "execute_result",
          "data": {
            "text/plain": [
              "<pandas.io.formats.style.Styler at 0x7c392c3f12a0>"
            ],
            "text/html": [
              "<style type=\"text/css\">\n",
              "#T_2afef th {\n",
              "  text-align: left;\n",
              "}\n",
              "#T_2afef td {\n",
              "  text-align: left;\n",
              "}\n",
              "</style>\n",
              "<table id=\"T_2afef\" class=\"dataframe\">\n",
              "  <thead>\n",
              "    <tr>\n",
              "      <th class=\"blank level0\" >&nbsp;</th>\n",
              "      <th id=\"T_2afef_level0_col0\" class=\"col_heading level0 col0\" >Feature</th>\n",
              "      <th id=\"T_2afef_level0_col1\" class=\"col_heading level0 col1\" >Description</th>\n",
              "      <th id=\"T_2afef_level0_col2\" class=\"col_heading level0 col2\" >Type</th>\n",
              "    </tr>\n",
              "  </thead>\n",
              "  <tbody>\n",
              "    <tr>\n",
              "      <th id=\"T_2afef_level0_row0\" class=\"row_heading level0 row0\" >0</th>\n",
              "      <td id=\"T_2afef_row0_col0\" class=\"data row0 col0\" >food_item</td>\n",
              "      <td id=\"T_2afef_row0_col1\" class=\"data row0 col1\" >Name of the food</td>\n",
              "      <td id=\"T_2afef_row0_col2\" class=\"data row0 col2\" >Categorical</td>\n",
              "    </tr>\n",
              "    <tr>\n",
              "      <th id=\"T_2afef_level0_row1\" class=\"row_heading level0 row1\" >1</th>\n",
              "      <td id=\"T_2afef_row1_col0\" class=\"data row1 col0\" >calories</td>\n",
              "      <td id=\"T_2afef_row1_col1\" class=\"data row1 col1\" >Total calories per serving</td>\n",
              "      <td id=\"T_2afef_row1_col2\" class=\"data row1 col2\" >Numerical</td>\n",
              "    </tr>\n",
              "    <tr>\n",
              "      <th id=\"T_2afef_level0_row2\" class=\"row_heading level0 row2\" >2</th>\n",
              "      <td id=\"T_2afef_row2_col0\" class=\"data row2 col0\" >protein</td>\n",
              "      <td id=\"T_2afef_row2_col1\" class=\"data row2 col1\" >Protein content per serving</td>\n",
              "      <td id=\"T_2afef_row2_col2\" class=\"data row2 col2\" >Numerical</td>\n",
              "    </tr>\n",
              "    <tr>\n",
              "      <th id=\"T_2afef_level0_row3\" class=\"row_heading level0 row3\" >3</th>\n",
              "      <td id=\"T_2afef_row3_col0\" class=\"data row3 col0\" >carbs</td>\n",
              "      <td id=\"T_2afef_row3_col1\" class=\"data row3 col1\" >Carbohydrate content per serving</td>\n",
              "      <td id=\"T_2afef_row3_col2\" class=\"data row3 col2\" >Numerical</td>\n",
              "    </tr>\n",
              "    <tr>\n",
              "      <th id=\"T_2afef_level0_row4\" class=\"row_heading level0 row4\" >4</th>\n",
              "      <td id=\"T_2afef_row4_col0\" class=\"data row4 col0\" >fats</td>\n",
              "      <td id=\"T_2afef_row4_col1\" class=\"data row4 col1\" >Fat content per serving</td>\n",
              "      <td id=\"T_2afef_row4_col2\" class=\"data row4 col2\" >Numerical</td>\n",
              "    </tr>\n",
              "    <tr>\n",
              "      <th id=\"T_2afef_level0_row5\" class=\"row_heading level0 row5\" >5</th>\n",
              "      <td id=\"T_2afef_row5_col0\" class=\"data row5 col0\" >meal_time</td>\n",
              "      <td id=\"T_2afef_row5_col1\" class=\"data row5 col1\" >Time of day the food was consumed</td>\n",
              "      <td id=\"T_2afef_row5_col2\" class=\"data row5 col2\" >Categorical</td>\n",
              "    </tr>\n",
              "  </tbody>\n",
              "</table>\n"
            ]
          },
          "metadata": {},
          "execution_count": 9
        }
      ]
    },
    {
      "cell_type": "markdown",
      "source": [
        "Table styling source: https://pandas.pydata.org/docs/user_guide/style.html"
      ],
      "metadata": {
        "id": "7toh6K2guOcm"
      }
    },
    {
      "cell_type": "code",
      "source": [
        "# 1. Which columns are numerical, and which are categorical?\n",
        "numerical_columns = df.select_dtypes(include=['number']).columns\n",
        "categorical_columns = df.select_dtypes(include=['object']).columns\n",
        "\n",
        "print(\"Numerical Columns:\")\n",
        "print(numerical_columns)\n",
        "\n",
        "print(\"\\nCategorical Columns:\")\n",
        "print(categorical_columns)"
      ],
      "metadata": {
        "colab": {
          "base_uri": "https://localhost:8080/"
        },
        "id": "xiN8eMI7TeAC",
        "outputId": "cc944e7e-3cf3-42e5-bebe-5185753fb73a"
      },
      "execution_count": null,
      "outputs": [
        {
          "output_type": "stream",
          "name": "stdout",
          "text": [
            "Numerical Columns:\n",
            "Index(['calories', 'protein', 'carbs', 'fats'], dtype='object')\n",
            "\n",
            "Categorical Columns:\n",
            "Index(['food_item', 'meal_time'], dtype='object')\n"
          ]
        }
      ]
    },
    {
      "cell_type": "code",
      "source": [
        "# 2. Are there any features that look redundant or unnecessary for analysis?\n",
        "# There are multiple duplicate rows. Pizza also shows up multiple times with different missing values and negative calories."
      ],
      "metadata": {
        "id": "XppLXdcsXu90"
      },
      "execution_count": null,
      "outputs": []
    },
    {
      "cell_type": "code",
      "source": [
        "# Check for duplicate rows\n",
        "duplicate_rows = df[df.duplicated()]\n",
        "\n",
        "# Print the duplicate rows\n",
        "print(\"Duplicate Rows:\")\n",
        "print(duplicate_rows)"
      ],
      "metadata": {
        "colab": {
          "base_uri": "https://localhost:8080/"
        },
        "id": "g8OPdTSYkXaT",
        "outputId": "4dcfd74d-c00d-4083-a02e-987b397f7da3"
      },
      "execution_count": null,
      "outputs": [
        {
          "output_type": "stream",
          "name": "stdout",
          "text": [
            "Duplicate Rows:\n",
            "          food_item  calories  protein  carbs  fats  meal_time\n",
            "10            Apple      95.0      0.5   25.0   0.3  Breakfast\n",
            "11           Banana     105.0      1.3   27.0   0.4      Snack\n",
            "12   Chicken Breast     165.0     31.0    0.0   3.6      Lunch\n",
            "13            Steak     679.0     62.0    0.0  48.0     Dinner\n",
            "14            Salad     150.0      2.0   15.0   7.0      Lunch\n",
            "..              ...       ...      ...    ...   ...        ...\n",
            "100           Pizza       NaN     12.0   36.0  10.0     Dinner\n",
            "101            Rice     206.0      4.3   45.0   0.5      Lunch\n",
            "102            Fish     232.0     26.0    0.0   5.0     Dinner\n",
            "103          Yogurt      59.0     10.0   12.0   0.4      Snack\n",
            "104           Pasta     131.0      5.0   25.0   1.1      Lunch\n",
            "\n",
            "[90 rows x 6 columns]\n"
          ]
        }
      ]
    },
    {
      "cell_type": "markdown",
      "source": [
        "# **Week 2 Practice Activity No. 1: Handling Missing Data**"
      ],
      "metadata": {
        "id": "7p_hYW7zHK5A"
      }
    },
    {
      "cell_type": "markdown",
      "source": [
        "1.   How many missing values are there for each column?\n",
        "2.   Did you drop any rows or fill them with specific values? Why?\n",
        "\n",
        "\n"
      ],
      "metadata": {
        "id": "dDZkhg7jk9VS"
      }
    },
    {
      "cell_type": "code",
      "source": [
        "df.isnull().sum()"
      ],
      "metadata": {
        "colab": {
          "base_uri": "https://localhost:8080/",
          "height": 272
        },
        "id": "8feimrw5lCCZ",
        "outputId": "7f2680b3-8b90-4a1e-dfe9-a16e39765b53"
      },
      "execution_count": null,
      "outputs": [
        {
          "output_type": "execute_result",
          "data": {
            "text/plain": [
              "food_item    0\n",
              "calories     2\n",
              "protein      1\n",
              "carbs        1\n",
              "fats         0\n",
              "meal_time    0\n",
              "dtype: int64"
            ],
            "text/html": [
              "<div>\n",
              "<style scoped>\n",
              "    .dataframe tbody tr th:only-of-type {\n",
              "        vertical-align: middle;\n",
              "    }\n",
              "\n",
              "    .dataframe tbody tr th {\n",
              "        vertical-align: top;\n",
              "    }\n",
              "\n",
              "    .dataframe thead th {\n",
              "        text-align: right;\n",
              "    }\n",
              "</style>\n",
              "<table border=\"1\" class=\"dataframe\">\n",
              "  <thead>\n",
              "    <tr style=\"text-align: right;\">\n",
              "      <th></th>\n",
              "      <th>0</th>\n",
              "    </tr>\n",
              "  </thead>\n",
              "  <tbody>\n",
              "    <tr>\n",
              "      <th>food_item</th>\n",
              "      <td>0</td>\n",
              "    </tr>\n",
              "    <tr>\n",
              "      <th>calories</th>\n",
              "      <td>2</td>\n",
              "    </tr>\n",
              "    <tr>\n",
              "      <th>protein</th>\n",
              "      <td>1</td>\n",
              "    </tr>\n",
              "    <tr>\n",
              "      <th>carbs</th>\n",
              "      <td>1</td>\n",
              "    </tr>\n",
              "    <tr>\n",
              "      <th>fats</th>\n",
              "      <td>0</td>\n",
              "    </tr>\n",
              "    <tr>\n",
              "      <th>meal_time</th>\n",
              "      <td>0</td>\n",
              "    </tr>\n",
              "  </tbody>\n",
              "</table>\n",
              "</div><br><label><b>dtype:</b> int64</label>"
            ]
          },
          "metadata": {},
          "execution_count": 13
        }
      ]
    },
    {
      "cell_type": "code",
      "source": [
        "# Show rows with missing values\n",
        "print(df[df.isnull().any(axis=1)])"
      ],
      "metadata": {
        "id": "iXdBofZuxfZT",
        "colab": {
          "base_uri": "https://localhost:8080/"
        },
        "outputId": "6ff7c256-6034-4c51-dbc8-770836b71441"
      },
      "execution_count": null,
      "outputs": [
        {
          "output_type": "stream",
          "name": "stdout",
          "text": [
            "    food_item  calories  protein  carbs  fats meal_time\n",
            "5       Pizza       NaN     12.0   36.0  10.0    Dinner\n",
            "15      Pizza     285.0      NaN   36.0  10.0    Dinner\n",
            "25      Pizza     285.0     12.0    NaN  10.0    Dinner\n",
            "100     Pizza       NaN     12.0   36.0  10.0    Dinner\n"
          ]
        }
      ]
    },
    {
      "cell_type": "markdown",
      "source": [
        "Source: https://stackoverflow.com/questions/30447083/python-pandas-return-only-those-rows-which-have-missing-values"
      ],
      "metadata": {
        "id": "4djbwEHjrKvo"
      }
    },
    {
      "cell_type": "code",
      "source": [
        "# Filter the DataFrame to include only rows where the 'food_item' is 'Pizza'\n",
        "pizza_rows = df[df['food_item'] == 'Pizza']\n",
        "\n",
        "# Display all rows for Pizza\n",
        "pizza_rows"
      ],
      "metadata": {
        "colab": {
          "base_uri": "https://localhost:8080/",
          "height": 394
        },
        "id": "hdXiha75s4KN",
        "outputId": "247fb3b2-d7ff-44f7-a14b-d185a6f982c9"
      },
      "execution_count": null,
      "outputs": [
        {
          "output_type": "execute_result",
          "data": {
            "text/plain": [
              "    food_item  calories  protein  carbs  fats meal_time\n",
              "5       Pizza       NaN     12.0   36.0  10.0    Dinner\n",
              "15      Pizza     285.0      NaN   36.0  10.0    Dinner\n",
              "25      Pizza     285.0     12.0    NaN  10.0    Dinner\n",
              "35      Pizza     -50.0     12.0   36.0  10.0    Dinner\n",
              "45      Pizza     285.0    300.0   36.0  10.0    Dinner\n",
              "55      Pizza     285.0     12.0   36.0  10.0    Dinner\n",
              "65      Pizza     285.0     12.0   36.0  10.0    Dinner\n",
              "75      Pizza     285.0     12.0   36.0  10.0    Dinner\n",
              "85      Pizza     285.0     12.0   36.0  10.0    Dinner\n",
              "95      Pizza     285.0     12.0   36.0  10.0    Dinner\n",
              "100     Pizza       NaN     12.0   36.0  10.0    Dinner"
            ],
            "text/html": [
              "\n",
              "  <div id=\"df-0515c31a-1e98-4971-b5c9-ee1baa74275f\" class=\"colab-df-container\">\n",
              "    <div>\n",
              "<style scoped>\n",
              "    .dataframe tbody tr th:only-of-type {\n",
              "        vertical-align: middle;\n",
              "    }\n",
              "\n",
              "    .dataframe tbody tr th {\n",
              "        vertical-align: top;\n",
              "    }\n",
              "\n",
              "    .dataframe thead th {\n",
              "        text-align: right;\n",
              "    }\n",
              "</style>\n",
              "<table border=\"1\" class=\"dataframe\">\n",
              "  <thead>\n",
              "    <tr style=\"text-align: right;\">\n",
              "      <th></th>\n",
              "      <th>food_item</th>\n",
              "      <th>calories</th>\n",
              "      <th>protein</th>\n",
              "      <th>carbs</th>\n",
              "      <th>fats</th>\n",
              "      <th>meal_time</th>\n",
              "    </tr>\n",
              "  </thead>\n",
              "  <tbody>\n",
              "    <tr>\n",
              "      <th>5</th>\n",
              "      <td>Pizza</td>\n",
              "      <td>NaN</td>\n",
              "      <td>12.0</td>\n",
              "      <td>36.0</td>\n",
              "      <td>10.0</td>\n",
              "      <td>Dinner</td>\n",
              "    </tr>\n",
              "    <tr>\n",
              "      <th>15</th>\n",
              "      <td>Pizza</td>\n",
              "      <td>285.0</td>\n",
              "      <td>NaN</td>\n",
              "      <td>36.0</td>\n",
              "      <td>10.0</td>\n",
              "      <td>Dinner</td>\n",
              "    </tr>\n",
              "    <tr>\n",
              "      <th>25</th>\n",
              "      <td>Pizza</td>\n",
              "      <td>285.0</td>\n",
              "      <td>12.0</td>\n",
              "      <td>NaN</td>\n",
              "      <td>10.0</td>\n",
              "      <td>Dinner</td>\n",
              "    </tr>\n",
              "    <tr>\n",
              "      <th>35</th>\n",
              "      <td>Pizza</td>\n",
              "      <td>-50.0</td>\n",
              "      <td>12.0</td>\n",
              "      <td>36.0</td>\n",
              "      <td>10.0</td>\n",
              "      <td>Dinner</td>\n",
              "    </tr>\n",
              "    <tr>\n",
              "      <th>45</th>\n",
              "      <td>Pizza</td>\n",
              "      <td>285.0</td>\n",
              "      <td>300.0</td>\n",
              "      <td>36.0</td>\n",
              "      <td>10.0</td>\n",
              "      <td>Dinner</td>\n",
              "    </tr>\n",
              "    <tr>\n",
              "      <th>55</th>\n",
              "      <td>Pizza</td>\n",
              "      <td>285.0</td>\n",
              "      <td>12.0</td>\n",
              "      <td>36.0</td>\n",
              "      <td>10.0</td>\n",
              "      <td>Dinner</td>\n",
              "    </tr>\n",
              "    <tr>\n",
              "      <th>65</th>\n",
              "      <td>Pizza</td>\n",
              "      <td>285.0</td>\n",
              "      <td>12.0</td>\n",
              "      <td>36.0</td>\n",
              "      <td>10.0</td>\n",
              "      <td>Dinner</td>\n",
              "    </tr>\n",
              "    <tr>\n",
              "      <th>75</th>\n",
              "      <td>Pizza</td>\n",
              "      <td>285.0</td>\n",
              "      <td>12.0</td>\n",
              "      <td>36.0</td>\n",
              "      <td>10.0</td>\n",
              "      <td>Dinner</td>\n",
              "    </tr>\n",
              "    <tr>\n",
              "      <th>85</th>\n",
              "      <td>Pizza</td>\n",
              "      <td>285.0</td>\n",
              "      <td>12.0</td>\n",
              "      <td>36.0</td>\n",
              "      <td>10.0</td>\n",
              "      <td>Dinner</td>\n",
              "    </tr>\n",
              "    <tr>\n",
              "      <th>95</th>\n",
              "      <td>Pizza</td>\n",
              "      <td>285.0</td>\n",
              "      <td>12.0</td>\n",
              "      <td>36.0</td>\n",
              "      <td>10.0</td>\n",
              "      <td>Dinner</td>\n",
              "    </tr>\n",
              "    <tr>\n",
              "      <th>100</th>\n",
              "      <td>Pizza</td>\n",
              "      <td>NaN</td>\n",
              "      <td>12.0</td>\n",
              "      <td>36.0</td>\n",
              "      <td>10.0</td>\n",
              "      <td>Dinner</td>\n",
              "    </tr>\n",
              "  </tbody>\n",
              "</table>\n",
              "</div>\n",
              "    <div class=\"colab-df-buttons\">\n",
              "\n",
              "  <div class=\"colab-df-container\">\n",
              "    <button class=\"colab-df-convert\" onclick=\"convertToInteractive('df-0515c31a-1e98-4971-b5c9-ee1baa74275f')\"\n",
              "            title=\"Convert this dataframe to an interactive table.\"\n",
              "            style=\"display:none;\">\n",
              "\n",
              "  <svg xmlns=\"http://www.w3.org/2000/svg\" height=\"24px\" viewBox=\"0 -960 960 960\">\n",
              "    <path d=\"M120-120v-720h720v720H120Zm60-500h600v-160H180v160Zm220 220h160v-160H400v160Zm0 220h160v-160H400v160ZM180-400h160v-160H180v160Zm440 0h160v-160H620v160ZM180-180h160v-160H180v160Zm440 0h160v-160H620v160Z\"/>\n",
              "  </svg>\n",
              "    </button>\n",
              "\n",
              "  <style>\n",
              "    .colab-df-container {\n",
              "      display:flex;\n",
              "      gap: 12px;\n",
              "    }\n",
              "\n",
              "    .colab-df-convert {\n",
              "      background-color: #E8F0FE;\n",
              "      border: none;\n",
              "      border-radius: 50%;\n",
              "      cursor: pointer;\n",
              "      display: none;\n",
              "      fill: #1967D2;\n",
              "      height: 32px;\n",
              "      padding: 0 0 0 0;\n",
              "      width: 32px;\n",
              "    }\n",
              "\n",
              "    .colab-df-convert:hover {\n",
              "      background-color: #E2EBFA;\n",
              "      box-shadow: 0px 1px 2px rgba(60, 64, 67, 0.3), 0px 1px 3px 1px rgba(60, 64, 67, 0.15);\n",
              "      fill: #174EA6;\n",
              "    }\n",
              "\n",
              "    .colab-df-buttons div {\n",
              "      margin-bottom: 4px;\n",
              "    }\n",
              "\n",
              "    [theme=dark] .colab-df-convert {\n",
              "      background-color: #3B4455;\n",
              "      fill: #D2E3FC;\n",
              "    }\n",
              "\n",
              "    [theme=dark] .colab-df-convert:hover {\n",
              "      background-color: #434B5C;\n",
              "      box-shadow: 0px 1px 3px 1px rgba(0, 0, 0, 0.15);\n",
              "      filter: drop-shadow(0px 1px 2px rgba(0, 0, 0, 0.3));\n",
              "      fill: #FFFFFF;\n",
              "    }\n",
              "  </style>\n",
              "\n",
              "    <script>\n",
              "      const buttonEl =\n",
              "        document.querySelector('#df-0515c31a-1e98-4971-b5c9-ee1baa74275f button.colab-df-convert');\n",
              "      buttonEl.style.display =\n",
              "        google.colab.kernel.accessAllowed ? 'block' : 'none';\n",
              "\n",
              "      async function convertToInteractive(key) {\n",
              "        const element = document.querySelector('#df-0515c31a-1e98-4971-b5c9-ee1baa74275f');\n",
              "        const dataTable =\n",
              "          await google.colab.kernel.invokeFunction('convertToInteractive',\n",
              "                                                    [key], {});\n",
              "        if (!dataTable) return;\n",
              "\n",
              "        const docLinkHtml = 'Like what you see? Visit the ' +\n",
              "          '<a target=\"_blank\" href=https://colab.research.google.com/notebooks/data_table.ipynb>data table notebook</a>'\n",
              "          + ' to learn more about interactive tables.';\n",
              "        element.innerHTML = '';\n",
              "        dataTable['output_type'] = 'display_data';\n",
              "        await google.colab.output.renderOutput(dataTable, element);\n",
              "        const docLink = document.createElement('div');\n",
              "        docLink.innerHTML = docLinkHtml;\n",
              "        element.appendChild(docLink);\n",
              "      }\n",
              "    </script>\n",
              "  </div>\n",
              "\n",
              "\n",
              "<div id=\"df-7914f90d-dd8a-4963-9fb0-b4e054b3a967\">\n",
              "  <button class=\"colab-df-quickchart\" onclick=\"quickchart('df-7914f90d-dd8a-4963-9fb0-b4e054b3a967')\"\n",
              "            title=\"Suggest charts\"\n",
              "            style=\"display:none;\">\n",
              "\n",
              "<svg xmlns=\"http://www.w3.org/2000/svg\" height=\"24px\"viewBox=\"0 0 24 24\"\n",
              "     width=\"24px\">\n",
              "    <g>\n",
              "        <path d=\"M19 3H5c-1.1 0-2 .9-2 2v14c0 1.1.9 2 2 2h14c1.1 0 2-.9 2-2V5c0-1.1-.9-2-2-2zM9 17H7v-7h2v7zm4 0h-2V7h2v10zm4 0h-2v-4h2v4z\"/>\n",
              "    </g>\n",
              "</svg>\n",
              "  </button>\n",
              "\n",
              "<style>\n",
              "  .colab-df-quickchart {\n",
              "      --bg-color: #E8F0FE;\n",
              "      --fill-color: #1967D2;\n",
              "      --hover-bg-color: #E2EBFA;\n",
              "      --hover-fill-color: #174EA6;\n",
              "      --disabled-fill-color: #AAA;\n",
              "      --disabled-bg-color: #DDD;\n",
              "  }\n",
              "\n",
              "  [theme=dark] .colab-df-quickchart {\n",
              "      --bg-color: #3B4455;\n",
              "      --fill-color: #D2E3FC;\n",
              "      --hover-bg-color: #434B5C;\n",
              "      --hover-fill-color: #FFFFFF;\n",
              "      --disabled-bg-color: #3B4455;\n",
              "      --disabled-fill-color: #666;\n",
              "  }\n",
              "\n",
              "  .colab-df-quickchart {\n",
              "    background-color: var(--bg-color);\n",
              "    border: none;\n",
              "    border-radius: 50%;\n",
              "    cursor: pointer;\n",
              "    display: none;\n",
              "    fill: var(--fill-color);\n",
              "    height: 32px;\n",
              "    padding: 0;\n",
              "    width: 32px;\n",
              "  }\n",
              "\n",
              "  .colab-df-quickchart:hover {\n",
              "    background-color: var(--hover-bg-color);\n",
              "    box-shadow: 0 1px 2px rgba(60, 64, 67, 0.3), 0 1px 3px 1px rgba(60, 64, 67, 0.15);\n",
              "    fill: var(--button-hover-fill-color);\n",
              "  }\n",
              "\n",
              "  .colab-df-quickchart-complete:disabled,\n",
              "  .colab-df-quickchart-complete:disabled:hover {\n",
              "    background-color: var(--disabled-bg-color);\n",
              "    fill: var(--disabled-fill-color);\n",
              "    box-shadow: none;\n",
              "  }\n",
              "\n",
              "  .colab-df-spinner {\n",
              "    border: 2px solid var(--fill-color);\n",
              "    border-color: transparent;\n",
              "    border-bottom-color: var(--fill-color);\n",
              "    animation:\n",
              "      spin 1s steps(1) infinite;\n",
              "  }\n",
              "\n",
              "  @keyframes spin {\n",
              "    0% {\n",
              "      border-color: transparent;\n",
              "      border-bottom-color: var(--fill-color);\n",
              "      border-left-color: var(--fill-color);\n",
              "    }\n",
              "    20% {\n",
              "      border-color: transparent;\n",
              "      border-left-color: var(--fill-color);\n",
              "      border-top-color: var(--fill-color);\n",
              "    }\n",
              "    30% {\n",
              "      border-color: transparent;\n",
              "      border-left-color: var(--fill-color);\n",
              "      border-top-color: var(--fill-color);\n",
              "      border-right-color: var(--fill-color);\n",
              "    }\n",
              "    40% {\n",
              "      border-color: transparent;\n",
              "      border-right-color: var(--fill-color);\n",
              "      border-top-color: var(--fill-color);\n",
              "    }\n",
              "    60% {\n",
              "      border-color: transparent;\n",
              "      border-right-color: var(--fill-color);\n",
              "    }\n",
              "    80% {\n",
              "      border-color: transparent;\n",
              "      border-right-color: var(--fill-color);\n",
              "      border-bottom-color: var(--fill-color);\n",
              "    }\n",
              "    90% {\n",
              "      border-color: transparent;\n",
              "      border-bottom-color: var(--fill-color);\n",
              "    }\n",
              "  }\n",
              "</style>\n",
              "\n",
              "  <script>\n",
              "    async function quickchart(key) {\n",
              "      const quickchartButtonEl =\n",
              "        document.querySelector('#' + key + ' button');\n",
              "      quickchartButtonEl.disabled = true;  // To prevent multiple clicks.\n",
              "      quickchartButtonEl.classList.add('colab-df-spinner');\n",
              "      try {\n",
              "        const charts = await google.colab.kernel.invokeFunction(\n",
              "            'suggestCharts', [key], {});\n",
              "      } catch (error) {\n",
              "        console.error('Error during call to suggestCharts:', error);\n",
              "      }\n",
              "      quickchartButtonEl.classList.remove('colab-df-spinner');\n",
              "      quickchartButtonEl.classList.add('colab-df-quickchart-complete');\n",
              "    }\n",
              "    (() => {\n",
              "      let quickchartButtonEl =\n",
              "        document.querySelector('#df-7914f90d-dd8a-4963-9fb0-b4e054b3a967 button');\n",
              "      quickchartButtonEl.style.display =\n",
              "        google.colab.kernel.accessAllowed ? 'block' : 'none';\n",
              "    })();\n",
              "  </script>\n",
              "</div>\n",
              "\n",
              "  <div id=\"id_920f5d88-e302-4ead-8c3b-f50519967682\">\n",
              "    <style>\n",
              "      .colab-df-generate {\n",
              "        background-color: #E8F0FE;\n",
              "        border: none;\n",
              "        border-radius: 50%;\n",
              "        cursor: pointer;\n",
              "        display: none;\n",
              "        fill: #1967D2;\n",
              "        height: 32px;\n",
              "        padding: 0 0 0 0;\n",
              "        width: 32px;\n",
              "      }\n",
              "\n",
              "      .colab-df-generate:hover {\n",
              "        background-color: #E2EBFA;\n",
              "        box-shadow: 0px 1px 2px rgba(60, 64, 67, 0.3), 0px 1px 3px 1px rgba(60, 64, 67, 0.15);\n",
              "        fill: #174EA6;\n",
              "      }\n",
              "\n",
              "      [theme=dark] .colab-df-generate {\n",
              "        background-color: #3B4455;\n",
              "        fill: #D2E3FC;\n",
              "      }\n",
              "\n",
              "      [theme=dark] .colab-df-generate:hover {\n",
              "        background-color: #434B5C;\n",
              "        box-shadow: 0px 1px 3px 1px rgba(0, 0, 0, 0.15);\n",
              "        filter: drop-shadow(0px 1px 2px rgba(0, 0, 0, 0.3));\n",
              "        fill: #FFFFFF;\n",
              "      }\n",
              "    </style>\n",
              "    <button class=\"colab-df-generate\" onclick=\"generateWithVariable('pizza_rows')\"\n",
              "            title=\"Generate code using this dataframe.\"\n",
              "            style=\"display:none;\">\n",
              "\n",
              "  <svg xmlns=\"http://www.w3.org/2000/svg\" height=\"24px\"viewBox=\"0 0 24 24\"\n",
              "       width=\"24px\">\n",
              "    <path d=\"M7,19H8.4L18.45,9,17,7.55,7,17.6ZM5,21V16.75L18.45,3.32a2,2,0,0,1,2.83,0l1.4,1.43a1.91,1.91,0,0,1,.58,1.4,1.91,1.91,0,0,1-.58,1.4L9.25,21ZM18.45,9,17,7.55Zm-12,3A5.31,5.31,0,0,0,4.9,8.1,5.31,5.31,0,0,0,1,6.5,5.31,5.31,0,0,0,4.9,4.9,5.31,5.31,0,0,0,6.5,1,5.31,5.31,0,0,0,8.1,4.9,5.31,5.31,0,0,0,12,6.5,5.46,5.46,0,0,0,6.5,12Z\"/>\n",
              "  </svg>\n",
              "    </button>\n",
              "    <script>\n",
              "      (() => {\n",
              "      const buttonEl =\n",
              "        document.querySelector('#id_920f5d88-e302-4ead-8c3b-f50519967682 button.colab-df-generate');\n",
              "      buttonEl.style.display =\n",
              "        google.colab.kernel.accessAllowed ? 'block' : 'none';\n",
              "\n",
              "      buttonEl.onclick = () => {\n",
              "        google.colab.notebook.generateWithVariable('pizza_rows');\n",
              "      }\n",
              "      })();\n",
              "    </script>\n",
              "  </div>\n",
              "\n",
              "    </div>\n",
              "  </div>\n"
            ],
            "application/vnd.google.colaboratory.intrinsic+json": {
              "type": "dataframe",
              "variable_name": "pizza_rows",
              "summary": "{\n  \"name\": \"pizza_rows\",\n  \"rows\": 11,\n  \"fields\": [\n    {\n      \"column\": \"food_item\",\n      \"properties\": {\n        \"dtype\": \"category\",\n        \"num_unique_values\": 1,\n        \"samples\": [\n          \"Pizza\"\n        ],\n        \"semantic_type\": \"\",\n        \"description\": \"\"\n      }\n    },\n    {\n      \"column\": \"calories\",\n      \"properties\": {\n        \"dtype\": \"number\",\n        \"std\": 111.66666666666666,\n        \"min\": -50.0,\n        \"max\": 285.0,\n        \"num_unique_values\": 2,\n        \"samples\": [\n          -50.0\n        ],\n        \"semantic_type\": \"\",\n        \"description\": \"\"\n      }\n    },\n    {\n      \"column\": \"protein\",\n      \"properties\": {\n        \"dtype\": \"number\",\n        \"std\": 91.07359661284933,\n        \"min\": 12.0,\n        \"max\": 300.0,\n        \"num_unique_values\": 2,\n        \"samples\": [\n          300.0\n        ],\n        \"semantic_type\": \"\",\n        \"description\": \"\"\n      }\n    },\n    {\n      \"column\": \"carbs\",\n      \"properties\": {\n        \"dtype\": \"number\",\n        \"std\": 0.0,\n        \"min\": 36.0,\n        \"max\": 36.0,\n        \"num_unique_values\": 1,\n        \"samples\": [\n          36.0\n        ],\n        \"semantic_type\": \"\",\n        \"description\": \"\"\n      }\n    },\n    {\n      \"column\": \"fats\",\n      \"properties\": {\n        \"dtype\": \"number\",\n        \"std\": 0.0,\n        \"min\": 10.0,\n        \"max\": 10.0,\n        \"num_unique_values\": 1,\n        \"samples\": [\n          10.0\n        ],\n        \"semantic_type\": \"\",\n        \"description\": \"\"\n      }\n    },\n    {\n      \"column\": \"meal_time\",\n      \"properties\": {\n        \"dtype\": \"category\",\n        \"num_unique_values\": 1,\n        \"samples\": [\n          \"Dinner\"\n        ],\n        \"semantic_type\": \"\",\n        \"description\": \"\"\n      }\n    }\n  ]\n}"
            }
          },
          "metadata": {},
          "execution_count": 18
        }
      ]
    },
    {
      "cell_type": "code",
      "source": [
        "print(df.isnull())"
      ],
      "metadata": {
        "colab": {
          "base_uri": "https://localhost:8080/"
        },
        "id": "5ems4601q5Zg",
        "outputId": "4e098d57-6976-4087-b5ae-4b130782499b"
      },
      "execution_count": null,
      "outputs": [
        {
          "output_type": "stream",
          "name": "stdout",
          "text": [
            "     food_item  calories  protein  carbs   fats  meal_time\n",
            "0        False     False    False  False  False      False\n",
            "1        False     False    False  False  False      False\n",
            "2        False     False    False  False  False      False\n",
            "3        False     False    False  False  False      False\n",
            "4        False     False    False  False  False      False\n",
            "..         ...       ...      ...    ...    ...        ...\n",
            "100      False      True    False  False  False      False\n",
            "101      False     False    False  False  False      False\n",
            "102      False     False    False  False  False      False\n",
            "103      False     False    False  False  False      False\n",
            "104      False     False    False  False  False      False\n",
            "\n",
            "[105 rows x 6 columns]\n"
          ]
        }
      ]
    },
    {
      "cell_type": "code",
      "source": [
        "# Drop rows with any missing values.\n",
        "df_dropped = df.dropna()\n",
        "\n",
        "# Print some info\n",
        "print(df_dropped.info())\n",
        "print(df_dropped.isnull().sum())"
      ],
      "metadata": {
        "colab": {
          "base_uri": "https://localhost:8080/"
        },
        "id": "w-XqjFY0rvFU",
        "outputId": "656e12ed-f6e4-4671-e3f9-a94bbb8f99e5"
      },
      "execution_count": null,
      "outputs": [
        {
          "output_type": "stream",
          "name": "stdout",
          "text": [
            "<class 'pandas.core.frame.DataFrame'>\n",
            "Index: 101 entries, 0 to 104\n",
            "Data columns (total 6 columns):\n",
            " #   Column     Non-Null Count  Dtype  \n",
            "---  ------     --------------  -----  \n",
            " 0   food_item  101 non-null    object \n",
            " 1   calories   101 non-null    float64\n",
            " 2   protein    101 non-null    float64\n",
            " 3   carbs      101 non-null    float64\n",
            " 4   fats       101 non-null    float64\n",
            " 5   meal_time  101 non-null    object \n",
            "dtypes: float64(4), object(2)\n",
            "memory usage: 5.5+ KB\n",
            "None\n",
            "food_item    0\n",
            "calories     0\n",
            "protein      0\n",
            "carbs        0\n",
            "fats         0\n",
            "meal_time    0\n",
            "dtype: int64\n"
          ]
        }
      ]
    },
    {
      "cell_type": "markdown",
      "source": [
        "1. How many missing values are there for each column?\n",
        "- Calories - 2 missing values\n",
        "- Protein - 1 missing value\n",
        "- Carbs - 1 missing value\n",
        "\n",
        "2. Did you drop any rows or fill them with specific values? Why?\n",
        "- Dropped missing values. Because all the missing values are from Pizza. A closer look at all the Pizza rows, shows a -50 for Calories which can skew results if mean was used to fill in the missing value."
      ],
      "metadata": {
        "id": "pmg7msnIr85S"
      }
    },
    {
      "cell_type": "markdown",
      "source": [
        "# **Week 2 Practice Activity No. 2: Data Transformation, Normalization and Feature Engineering**"
      ],
      "metadata": {
        "id": "a1QHkxSIHOzL"
      }
    }
  ]
}