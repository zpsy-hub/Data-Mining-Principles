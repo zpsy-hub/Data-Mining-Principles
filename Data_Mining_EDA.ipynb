{
  "nbformat": 4,
  "nbformat_minor": 0,
  "metadata": {
    "colab": {
      "provenance": [],
      "toc_visible": true,
      "mount_file_id": "1ODOpf6jetCbBx_sa9lyww2A4ItPscBG9",
      "authorship_tag": "ABX9TyOjjiE9c5ky4R9nGdFlNH/b"
    },
    "kernelspec": {
      "name": "python3",
      "display_name": "Python 3"
    },
    "language_info": {
      "name": "python"
    }
  },
  "cells": [
    {
      "cell_type": "markdown",
      "source": [
        "# **Importing Libraries and Reading Data**"
      ],
      "metadata": {
        "id": "SWOC7G0sU8Ly"
      }
    },
    {
      "cell_type": "code",
      "source": [
        "import pandas as pd\n",
        "import numpy as np\n",
        "import matplotlib.pyplot as plt\n",
        "import seaborn as sns\n",
        "import scipy.stats as stats\n"
      ],
      "metadata": {
        "id": "tntkpF4R20bO"
      },
      "execution_count": null,
      "outputs": []
    },
    {
      "cell_type": "code",
      "execution_count": null,
      "metadata": {
        "id": "BbawlBH1GLmZ"
      },
      "outputs": [],
      "source": [
        "# Show all columns\n",
        "pd.set_option('display.max_columns', None)\n",
        "\n",
        "# Load the datasets\n",
        "df_customer_feedback = pd.read_csv('/content/drive/MyDrive/3rd year 2024-25/Term 2/Data Mining Principles/raw data/Customer_Feedback_Data.csv')\n",
        "df_product_offering = pd.read_csv('/content/drive/MyDrive/3rd year 2024-25/Term 2/Data Mining Principles/raw data/Product_Offering_Data.csv')\n",
        "df_transaction = pd.read_csv('/content/drive/MyDrive/3rd year 2024-25/Term 2/Data Mining Principles/raw data/Transaction_Data.csv')\n"
      ]
    },
    {
      "cell_type": "markdown",
      "source": [
        "# **Data Overview**"
      ],
      "metadata": {
        "id": "YdzF5kOpVCuJ"
      }
    },
    {
      "cell_type": "code",
      "source": [
        "# Dictionary of DataFrames\n",
        "dfs = {\n",
        "    'Customer Feedback Data': df_customer_feedback,\n",
        "    'Product Offering Data': df_product_offering,\n",
        "    'Transaction Data': df_transaction\n",
        "}"
      ],
      "metadata": {
        "id": "kTOSQ7vl_5v6"
      },
      "execution_count": null,
      "outputs": []
    },
    {
      "cell_type": "markdown",
      "source": [
        "### Summary Statistics"
      ],
      "metadata": {
        "id": "976HI1GODNLp"
      }
    },
    {
      "cell_type": "code",
      "source": [
        "for name, df in dfs.items():\n",
        "    print(f\"{name}:\\n{df.describe()}\\n\")"
      ],
      "metadata": {
        "colab": {
          "base_uri": "https://localhost:8080/"
        },
        "id": "Qs3c8bN2DMnL",
        "outputId": "0bb440be-004c-431e-8c80-91bd859751f5"
      },
      "execution_count": null,
      "outputs": [
        {
          "output_type": "stream",
          "name": "stdout",
          "text": [
            "Customer Feedback Data:\n",
            "       Customer_ID  Satisfaction_Score  Likelihood_to_Recommend\n",
            "count  5050.000000         4949.000000              5050.000000\n",
            "mean    501.949703            5.684785                 5.571287\n",
            "std     288.806331            3.606511                 2.872577\n",
            "min       1.000000            1.000000                 1.000000\n",
            "25%     253.000000            3.000000                 3.000000\n",
            "50%     502.000000            6.000000                 6.000000\n",
            "75%     751.750000            8.000000                 8.000000\n",
            "max    1000.000000           60.000000                10.000000\n",
            "\n",
            "Product Offering Data:\n",
            "       Product_ID  Target_Age_Group\n",
            "count   15.000000               0.0\n",
            "mean     5.133333               NaN\n",
            "std      3.159265               NaN\n",
            "min      1.000000               NaN\n",
            "25%      2.500000               NaN\n",
            "50%      5.000000               NaN\n",
            "75%      7.500000               NaN\n",
            "max     10.000000               NaN\n",
            "\n",
            "Transaction Data:\n",
            "       Transaction_ID  Customer_ID  Transaction_Amount\n",
            "count     5050.000000  5050.000000         4950.000000\n",
            "mean      2498.927129   504.692871         3094.726465\n",
            "std       1443.059092   291.593793        14818.501011\n",
            "min          1.000000     1.000000           10.000000\n",
            "25%       1250.250000   251.250000         1239.000000\n",
            "50%       2500.500000   509.000000         2483.000000\n",
            "75%       3745.750000   764.000000         3706.000000\n",
            "max       5000.000000  1000.000000       480300.000000\n",
            "\n"
          ]
        }
      ]
    },
    {
      "cell_type": "markdown",
      "source": [
        "### Number of rows and columns in the DataFrame\n"
      ],
      "metadata": {
        "id": "vLSbfqgDDBJK"
      }
    },
    {
      "cell_type": "code",
      "source": [
        "for name, df in dfs.items():\n",
        "    print(f\"{name}: {df.shape}\")"
      ],
      "metadata": {
        "colab": {
          "base_uri": "https://localhost:8080/"
        },
        "id": "xFJ3v_qR_-ds",
        "outputId": "0ba09390-bfb4-4672-ee7a-a20ba05ce135"
      },
      "execution_count": null,
      "outputs": [
        {
          "output_type": "stream",
          "name": "stdout",
          "text": [
            "Customer Feedback Data: (5050, 4)\n",
            "Product Offering Data: (15, 6)\n",
            "Transaction Data: (5050, 5)\n"
          ]
        }
      ]
    },
    {
      "cell_type": "markdown",
      "source": [
        "###Display Index, Columns, and Data"
      ],
      "metadata": {
        "id": "YyFmeW9CERtL"
      }
    },
    {
      "cell_type": "code",
      "source": [
        "for name, df in dfs.items():\n",
        "    print(f\"\\n=== {name} ===\")\n",
        "    print(\"DataFrame Info:\\n\")\n",
        "    df.info()\n",
        "\n"
      ],
      "metadata": {
        "colab": {
          "base_uri": "https://localhost:8080/"
        },
        "id": "w0XHcenDETtB",
        "outputId": "5b3f50d9-b3bf-4443-ce49-1d390f2682ff"
      },
      "execution_count": null,
      "outputs": [
        {
          "output_type": "stream",
          "name": "stdout",
          "text": [
            "\n",
            "=== Customer Feedback Data ===\n",
            "DataFrame Info:\n",
            "\n",
            "<class 'pandas.core.frame.DataFrame'>\n",
            "RangeIndex: 5050 entries, 0 to 5049\n",
            "Data columns (total 4 columns):\n",
            " #   Column                   Non-Null Count  Dtype  \n",
            "---  ------                   --------------  -----  \n",
            " 0   Customer_ID              5050 non-null   int64  \n",
            " 1   Satisfaction_Score       4949 non-null   float64\n",
            " 2   Feedback_Comments        5050 non-null   object \n",
            " 3   Likelihood_to_Recommend  5050 non-null   int64  \n",
            "dtypes: float64(1), int64(2), object(1)\n",
            "memory usage: 157.9+ KB\n",
            "\n",
            "=== Product Offering Data ===\n",
            "DataFrame Info:\n",
            "\n",
            "<class 'pandas.core.frame.DataFrame'>\n",
            "RangeIndex: 15 entries, 0 to 14\n",
            "Data columns (total 6 columns):\n",
            " #   Column               Non-Null Count  Dtype  \n",
            "---  ------               --------------  -----  \n",
            " 0   Product_ID           15 non-null     int64  \n",
            " 1   Product_Name         15 non-null     object \n",
            " 2   Product_Type         15 non-null     object \n",
            " 3   Risk_Level           15 non-null     object \n",
            " 4   Target_Age_Group     0 non-null      float64\n",
            " 5   Target_Income_Group  15 non-null     object \n",
            "dtypes: float64(1), int64(1), object(4)\n",
            "memory usage: 852.0+ bytes\n",
            "\n",
            "=== Transaction Data ===\n",
            "DataFrame Info:\n",
            "\n",
            "<class 'pandas.core.frame.DataFrame'>\n",
            "RangeIndex: 5050 entries, 0 to 5049\n",
            "Data columns (total 5 columns):\n",
            " #   Column              Non-Null Count  Dtype  \n",
            "---  ------              --------------  -----  \n",
            " 0   Transaction_ID      5050 non-null   int64  \n",
            " 1   Customer_ID         5050 non-null   int64  \n",
            " 2   Transaction_Date    5050 non-null   object \n",
            " 3   Transaction_Amount  4950 non-null   float64\n",
            " 4   Transaction_Type    5050 non-null   object \n",
            "dtypes: float64(1), int64(2), object(2)\n",
            "memory usage: 197.4+ KB\n"
          ]
        }
      ]
    },
    {
      "cell_type": "code",
      "source": [
        "for name, df in dfs.items():\n",
        "    print(f\"{name}:\\n{df.head()}\\n\")"
      ],
      "metadata": {
        "colab": {
          "base_uri": "https://localhost:8080/"
        },
        "id": "umiI6xgACoj6",
        "outputId": "e0df7ff1-587f-463f-fdfb-ef684db817ee"
      },
      "execution_count": null,
      "outputs": [
        {
          "output_type": "stream",
          "name": "stdout",
          "text": [
            "Customer Feedback Data:\n",
            "   Customer_ID  Satisfaction_Score  Feedback_Comments  Likelihood_to_Recommend\n",
            "0            1                10.0     Very satisfied                        9\n",
            "1            2                 3.0     Very satisfied                        3\n",
            "2            3                10.0     Very satisfied                        1\n",
            "3            4                 7.0  Needs improvement                        4\n",
            "4            5                 8.0     Unsatisfactory                        7\n",
            "\n",
            "Product Offering Data:\n",
            "   Product_ID                   Product_Name     Product_Type Risk_Level  \\\n",
            "0           1           Platinum Credit Card      Credit Card     Medium   \n",
            "1           2           Gold Savings Account  Savings Account        Low   \n",
            "2           3  High-Yield Investment Account       Investment       High   \n",
            "3           4                  Mortgage Loan             Loan     Medium   \n",
            "4           5                      Auto Loan             Loan     Medium   \n",
            "\n",
            "   Target_Age_Group Target_Income_Group  \n",
            "0               NaN              Medium  \n",
            "1               NaN                 Low  \n",
            "2               NaN                High  \n",
            "3               NaN                High  \n",
            "4               NaN              Medium  \n",
            "\n",
            "Transaction Data:\n",
            "   Transaction_ID  Customer_ID     Transaction_Date  Transaction_Amount  \\\n",
            "0               1          393  2023-01-01 00:00:00              3472.0   \n",
            "1               2          826  2023-01-01 01:00:00                 NaN   \n",
            "2               3          916  2023-01-01 02:00:00                10.0   \n",
            "3               4          109  2023-01-01 03:00:00                72.0   \n",
            "4               5          889  2023-01-01 04:00:00              1793.0   \n",
            "\n",
            "  Transaction_Type  \n",
            "0         Purchase  \n",
            "1     Bill Payment  \n",
            "2         Purchase  \n",
            "3       Investment  \n",
            "4       Investment  \n",
            "\n"
          ]
        }
      ]
    },
    {
      "cell_type": "markdown",
      "source": [
        "##**Observations after Cursory look at the data**\n"
      ],
      "metadata": {
        "id": "JvzLtbXHCQGt"
      }
    },
    {
      "cell_type": "markdown",
      "source": [
        "####**Customer Feedback Data**\n",
        "This dataset seems to be about collecting feedback from customers about their experiences with a product or service.\n",
        "\n",
        "|Column Name|Description|Data Type|Sample Data|\n",
        "|:---|:---|:---|:---|\n",
        "|Customer_ID|A unique identifier for each customer|int|1, 2, 3|\n",
        "|Satisfaction_Score|A numerical score indicating how satisfied the customer is|float|10.0, 3.0, 7.0|\n",
        "|Feedback_Comments|A categorical field with short comments about the service|object|Very satisfied, Needs improvement|\n",
        "|Likelihood_to_Recommend|A numerical score showing how likely the customer is to recommend the product/service|int|9, 3, 1|\n",
        "\n",
        "Based on the df.describe():\n",
        "*   `Customer_ID`: Ranges from 1-1000, but total count is 5050 so there are repeat customers that gave multiple feedback.\n",
        "*   `Satisfaction_Score`: Max is 60, but mean is 5.68 and 75th prinicple is 8.00, 60 seems like an outlier.\n",
        "*   `Likelihood_to_Recommend`: Range is 1 to 10, seems to be a scale.\n",
        "\n",
        "Recommendations:\n",
        "\n",
        "\n",
        "*   Change `Satisfaction_Score` to int.\n",
        "*   `Feedback_Comments`, check if it can be categorical, seems like the same comments repeat. There are only 5 comments throughout the column,Very satisfied, Good service, Needs improvement, Unsatisfactory and Excellent . Is there correlation with `Satisfaction_Score` and/or `Likelihood_to_Recommend`?"
      ],
      "metadata": {
        "id": "DX-FrNBE-iwD"
      }
    },
    {
      "cell_type": "markdown",
      "source": [
        "####**Product Offering Data**\n",
        "This dataset seems to be a catalog or list of products/services offered by a company.\n",
        "\n",
        "|Column Name|Description|Data Type|Sample Data|\n",
        "|:---|:---|:---|:---|\n",
        "|Product_ID|A unique identifier for each product|int|1, 2, 3|\n",
        "|Product_Name|The name of the product|object|Platinum Credit Card, Gold Savings Account|\n",
        "|Product_Type|A broader category of the product (e.g., Credit Card, Loan)|object|Credit Card, Savings Account|\n",
        "|Risk_Level|The risk level associated with the product|object|Medium, Low, High|\n",
        "|Target_Age_Group|This column is empty, so its purpose is unclear without more context|float|||\n",
        "|Target_Income_Group|The income level the product is designed for|object|Medium, Low, High|\n",
        "\n",
        "Based on the df.describe():\n",
        "*   `Product_ID`: Ranges from 1-10, but total count is 15 so there are either duplicates or multiple products with the same Product_ID.\n",
        "*   `Target_Age_Group`: Whole column is missing data. Drop this column?\n",
        "*   `Risk_Level` and `Target_Income_Group`: Both are scales. They can be processed using ordinal encoding (is this needed? hm..)."
      ],
      "metadata": {
        "id": "wmOmubXqOrWp"
      }
    },
    {
      "cell_type": "markdown",
      "source": [
        "####**Transaction Data**\n",
        "This dataset seems to be recorded transactions made by customers.\n",
        "\n",
        "|Column Name|Description|Data Type|Sample Data|\n",
        "|:---|:---|:---|:---|\n",
        "|Transaction_ID|A unique identifier for each transaction|int|1, 2, 3|\n",
        "|Customer_ID|The identifier of the customer who made the transaction|int|393, 826, 916|\n",
        "|Transaction_Date|The date and time of the transaction|object|2023-01-01 00:00:00, 2023-01-01 01:00:00|\n",
        "|Transaction_Amount|The amount of money involved in the transaction|float|3472.0, 10.0, 72.0|\n",
        "|Transaction_Type|The type of transaction (e.g., Purchase, Bill Payment)|object|Purchase, Bill Payment, Investment|\n",
        "\n",
        "Recommendations:\n",
        "*   `Transaction_Date`: Change data type to datetime.\n",
        "*   `Customer_ID`: Can be cross referenced with `Customer_ID` from Customer Feedback Data."
      ],
      "metadata": {
        "id": "VUef_ttK4BTj"
      }
    },
    {
      "cell_type": "markdown",
      "source": [
        "# **Data Cleaning**"
      ],
      "metadata": {
        "id": "lWyHSiToMQW3"
      }
    },
    {
      "cell_type": "code",
      "source": [
        "# Copies of original data set\n",
        "feedback = df_customer_feedback.copy()\n",
        "products = df_product_offering.copy()\n",
        "transactions = df_transaction.copy()"
      ],
      "metadata": {
        "id": "zB9PNh_gBl2c"
      },
      "execution_count": null,
      "outputs": []
    },
    {
      "cell_type": "markdown",
      "source": [
        "### Removing Duplicates"
      ],
      "metadata": {
        "id": "TFUA--7yqtQn"
      }
    },
    {
      "cell_type": "code",
      "source": [
        "# --- Check for and remove duplicates in 'feedback' DataFrame ---\n",
        "\n",
        "# Count duplicates\n",
        "duplicates_feedback = feedback[feedback.duplicated()]\n",
        "num_duplicates_feedback = len(duplicates_feedback)\n",
        "print(\"Number of duplicate rows in feedback:\", num_duplicates_feedback)\n",
        "\n",
        "# Remove duplicates, keeping the first occurrence\n",
        "feedback = feedback.drop_duplicates(keep='first')\n",
        "\n",
        "# --- Check for and remove duplicates in 'products' DataFrame ---\n",
        "\n",
        "# Count duplicates\n",
        "duplicates_products = products[products.duplicated()]\n",
        "num_duplicates_products = len(duplicates_products)\n",
        "print(\"Number of duplicate rows in products:\", num_duplicates_products)\n",
        "\n",
        "# Remove duplicates, keeping the first occurrence\n",
        "products = products.drop_duplicates(keep='first')\n",
        "\n",
        "# --- Check for and remove duplicates in 'transactions' DataFrame ---\n",
        "\n",
        "# Count duplicates\n",
        "duplicates_transactions = transactions[transactions.duplicated()]\n",
        "num_duplicates_transactions = len(duplicates_transactions)\n",
        "print(\"Number of duplicate rows in transactions:\", num_duplicates_transactions)\n",
        "\n",
        "# Remove duplicates, keeping the first occurrence\n",
        "transactions = transactions.drop_duplicates(keep='first')\n",
        "\n",
        "# --- Print confirmation (optional) ---\n",
        "print(\"\\nDuplicates removed. DataFrames are now unique (keeping the first occurrence).\")"
      ],
      "metadata": {
        "colab": {
          "base_uri": "https://localhost:8080/"
        },
        "id": "ZPNVJ-avqoeU",
        "outputId": "768fc3d5-37e9-456e-cbfb-3094d3913b00"
      },
      "execution_count": null,
      "outputs": [
        {
          "output_type": "stream",
          "name": "stdout",
          "text": [
            "Number of duplicate rows in feedback: 81\n",
            "Number of duplicate rows in products: 5\n",
            "Number of duplicate rows in transactions: 50\n",
            "\n",
            "Duplicates removed. DataFrames are now unique (keeping the first occurrence).\n"
          ]
        }
      ]
    },
    {
      "cell_type": "markdown",
      "source": [
        "### Removing outliers"
      ],
      "metadata": {
        "id": "TW_Y4f2hxHyh"
      }
    },
    {
      "cell_type": "code",
      "source": [
        "# Count the occurrences of each unique value in 'Satisfaction_Score'\n",
        "satisfaction_counts = feedback['Satisfaction_Score'].value_counts()\n",
        "\n",
        "# Print the results\n",
        "print(satisfaction_counts)"
      ],
      "metadata": {
        "colab": {
          "base_uri": "https://localhost:8080/"
        },
        "id": "sDJJno23xKK2",
        "outputId": "ae99c661-592b-4050-fa28-d20a813c4ef3"
      },
      "execution_count": null,
      "outputs": [
        {
          "output_type": "stream",
          "name": "stdout",
          "text": [
            "Satisfaction_Score\n",
            "7.0     532\n",
            "5.0     523\n",
            "10.0    505\n",
            "6.0     497\n",
            "8.0     485\n",
            "4.0     485\n",
            "9.0     469\n",
            "3.0     469\n",
            "2.0     454\n",
            "1.0     440\n",
            "60.0      2\n",
            "51.0      2\n",
            "58.0      2\n",
            "52.0      1\n",
            "56.0      1\n",
            "53.0      1\n",
            "54.0      1\n",
            "Name: count, dtype: int64\n"
          ]
        }
      ]
    },
    {
      "cell_type": "markdown",
      "source": [
        "Since there are only 10 outliers, it is better to drop these data, than replace as it could skew the results if kept."
      ],
      "metadata": {
        "id": "ktU8_LfPxRg4"
      }
    },
    {
      "cell_type": "code",
      "source": [
        "   # Identify outliers (scores above 10)\n",
        "outlier_mask = feedback['Satisfaction_Score'] > 10\n",
        "\n",
        "# Remove outlier rows\n",
        "feedback = feedback[~outlier_mask]  # ~ inverts the boolean mask\n",
        "\n",
        "# Verify that outliers are removed (optional)\n",
        "print(feedback['Satisfaction_Score'].value_counts())"
      ],
      "metadata": {
        "colab": {
          "base_uri": "https://localhost:8080/"
        },
        "id": "tUAdmNlC1pNa",
        "outputId": "a65e0e27-4d4a-4773-c073-57ec64e3b3ff"
      },
      "execution_count": null,
      "outputs": [
        {
          "output_type": "stream",
          "name": "stdout",
          "text": [
            "Satisfaction_Score\n",
            "7.0     532\n",
            "5.0     523\n",
            "10.0    505\n",
            "6.0     497\n",
            "8.0     485\n",
            "4.0     485\n",
            "3.0     469\n",
            "9.0     469\n",
            "2.0     454\n",
            "1.0     440\n",
            "Name: count, dtype: int64\n"
          ]
        }
      ]
    },
    {
      "cell_type": "markdown",
      "source": [
        "### Customer Feedback data Filling Missing Values"
      ],
      "metadata": {
        "id": "bHhKMghVcFh_"
      }
    },
    {
      "cell_type": "code",
      "source": [
        "# Count missing values for each column\n",
        "missing_values = feedback.isnull().sum()\n",
        "\n",
        "# Print the results\n",
        "print(missing_values)"
      ],
      "metadata": {
        "colab": {
          "base_uri": "https://localhost:8080/"
        },
        "id": "OrA7_LQxI4nj",
        "outputId": "36d92934-3c6a-4728-87f2-048ccbf534ad"
      },
      "execution_count": null,
      "outputs": [
        {
          "output_type": "stream",
          "name": "stdout",
          "text": [
            "Customer_ID                  0\n",
            "Satisfaction_Score         100\n",
            "Feedback_Comments            0\n",
            "Likelihood_to_Recommend      0\n",
            "dtype: int64\n"
          ]
        }
      ]
    },
    {
      "cell_type": "markdown",
      "source": [
        "101 our of 5050 is missing. Only 2% of data is missing."
      ],
      "metadata": {
        "id": "wTk-avJ_JjsN"
      }
    },
    {
      "cell_type": "code",
      "source": [
        "# Calculate the median Satisfaction_Score\n",
        "median_satisfaction = feedback['Satisfaction_Score'].median()\n",
        "\n",
        "# Fill missing values using .loc\n",
        "feedback.loc[feedback['Satisfaction_Score'].isnull(), 'Satisfaction_Score'] = median_satisfaction\n",
        "\n",
        "# (Optional) Verify that there are no more missing values\n",
        "print(feedback['Satisfaction_Score'].isnull().sum())"
      ],
      "metadata": {
        "colab": {
          "base_uri": "https://localhost:8080/"
        },
        "id": "Xl1nR8nRbAVY",
        "outputId": "7dc35ddf-4891-4581-fd4d-9fc86edcf7e7"
      },
      "execution_count": null,
      "outputs": [
        {
          "output_type": "stream",
          "name": "stdout",
          "text": [
            "0\n"
          ]
        }
      ]
    },
    {
      "cell_type": "markdown",
      "source": [
        "### Product data Filling Missing Values"
      ],
      "metadata": {
        "id": "w-vosoZ4cSwt"
      }
    },
    {
      "cell_type": "code",
      "source": [
        "# Count missing values for each column\n",
        "missing_values = products.isnull().sum()\n",
        "\n",
        "# Print the results\n",
        "print(missing_values)"
      ],
      "metadata": {
        "colab": {
          "base_uri": "https://localhost:8080/"
        },
        "id": "P6JZ0SJxJF2R",
        "outputId": "8d56fc3e-9361-4722-8be3-6655489f92ff"
      },
      "execution_count": null,
      "outputs": [
        {
          "output_type": "stream",
          "name": "stdout",
          "text": [
            "Product_ID              0\n",
            "Product_Name            0\n",
            "Product_Type            0\n",
            "Risk_Level              0\n",
            "Target_Age_Group       10\n",
            "Target_Income_Group     0\n",
            "dtype: int64\n"
          ]
        }
      ]
    },
    {
      "cell_type": "code",
      "source": [
        "# Drop the 'Target_Age_Group' column\n",
        "products = products.drop('Target_Age_Group', axis=1)"
      ],
      "metadata": {
        "id": "ynBbbnOuJcwy"
      },
      "execution_count": null,
      "outputs": []
    },
    {
      "cell_type": "markdown",
      "source": [
        "### Transaction data Filling Missing Values"
      ],
      "metadata": {
        "id": "RhHe30j-cXgp"
      }
    },
    {
      "cell_type": "code",
      "source": [
        "# Count missing values for each column\n",
        "missing_values = transactions.isnull().sum()\n",
        "\n",
        "# Print the results\n",
        "print(missing_values)"
      ],
      "metadata": {
        "colab": {
          "base_uri": "https://localhost:8080/"
        },
        "id": "SI0eu3DWJJ9I",
        "outputId": "e73b3f87-4ef3-4837-88cc-e72335ad42ce"
      },
      "execution_count": null,
      "outputs": [
        {
          "output_type": "stream",
          "name": "stdout",
          "text": [
            "Transaction_ID          0\n",
            "Customer_ID             0\n",
            "Transaction_Date        0\n",
            "Transaction_Amount    100\n",
            "Transaction_Type        0\n",
            "dtype: int64\n"
          ]
        }
      ]
    },
    {
      "cell_type": "code",
      "source": [
        "# Calculate the mean Transaction_Amount for each Transaction_Type\n",
        "mean_by_type = transactions.groupby('Transaction_Type')['Transaction_Amount'].mean()\n",
        "\n",
        "# Fill missing values in 'Transaction_Amount' using the calculated means\n",
        "transactions['Transaction_Amount'] = transactions.apply(\n",
        "    lambda row: mean_by_type[row['Transaction_Type']] if pd.isnull(row['Transaction_Amount']) else row['Transaction_Amount'],\n",
        "    axis=1\n",
        ")\n",
        "\n",
        "# Verify that there are no more missing values\n",
        "print(transactions['Transaction_Amount'].isnull().sum())"
      ],
      "metadata": {
        "colab": {
          "base_uri": "https://localhost:8080/"
        },
        "id": "I9-HXXweZEfC",
        "outputId": "27c23b21-5803-4d29-b429-042ce42bc233"
      },
      "execution_count": null,
      "outputs": [
        {
          "output_type": "stream",
          "name": "stdout",
          "text": [
            "0\n"
          ]
        }
      ]
    },
    {
      "cell_type": "markdown",
      "source": [
        "### Changing Data Types"
      ],
      "metadata": {
        "id": "ILI4U2GOtUnQ"
      }
    },
    {
      "cell_type": "code",
      "source": [
        "for name, df in dfs.items():\n",
        "    print(f\"Data types for {name}:\")\n",
        "    print(df.dtypes)\n",
        "    print()\n"
      ],
      "metadata": {
        "colab": {
          "base_uri": "https://localhost:8080/"
        },
        "id": "Rh6cqzh_J1Y7",
        "outputId": "a126066a-8fa1-44ed-ec54-1361692582bd"
      },
      "execution_count": null,
      "outputs": [
        {
          "output_type": "stream",
          "name": "stdout",
          "text": [
            "Data types for Customer Feedback Data:\n",
            "Customer_ID                  int64\n",
            "Satisfaction_Score         float64\n",
            "Feedback_Comments           object\n",
            "Likelihood_to_Recommend      int64\n",
            "dtype: object\n",
            "\n",
            "Data types for Product Offering Data:\n",
            "Product_ID               int64\n",
            "Product_Name            object\n",
            "Product_Type            object\n",
            "Risk_Level              object\n",
            "Target_Age_Group       float64\n",
            "Target_Income_Group     object\n",
            "dtype: object\n",
            "\n",
            "Data types for Transaction Data:\n",
            "Transaction_ID          int64\n",
            "Customer_ID             int64\n",
            "Transaction_Date       object\n",
            "Transaction_Amount    float64\n",
            "Transaction_Type       object\n",
            "dtype: object\n",
            "\n"
          ]
        }
      ]
    },
    {
      "cell_type": "code",
      "source": [
        "# Change Data types for Customer Feedback Data:\n",
        "\n",
        "# Convert 'Satisfaction_Score' to integer\n",
        "feedback['Satisfaction_Score'] = feedback['Satisfaction_Score'].astype(int)\n",
        "\n",
        "# Convert 'Feedback_Comments' to category\n",
        "feedback['Feedback_Comments'] = feedback['Feedback_Comments'].astype('category')\n",
        "\n",
        "# Check data types\n",
        "feedback.dtypes"
      ],
      "metadata": {
        "colab": {
          "base_uri": "https://localhost:8080/",
          "height": 209
        },
        "id": "gHD745giNnEe",
        "outputId": "1d8e07b8-d5eb-4c43-9caf-2d041eae4ada"
      },
      "execution_count": null,
      "outputs": [
        {
          "output_type": "execute_result",
          "data": {
            "text/plain": [
              "Customer_ID                   int64\n",
              "Satisfaction_Score            int64\n",
              "Feedback_Comments          category\n",
              "Likelihood_to_Recommend       int64\n",
              "dtype: object"
            ],
            "text/html": [
              "<div>\n",
              "<style scoped>\n",
              "    .dataframe tbody tr th:only-of-type {\n",
              "        vertical-align: middle;\n",
              "    }\n",
              "\n",
              "    .dataframe tbody tr th {\n",
              "        vertical-align: top;\n",
              "    }\n",
              "\n",
              "    .dataframe thead th {\n",
              "        text-align: right;\n",
              "    }\n",
              "</style>\n",
              "<table border=\"1\" class=\"dataframe\">\n",
              "  <thead>\n",
              "    <tr style=\"text-align: right;\">\n",
              "      <th></th>\n",
              "      <th>0</th>\n",
              "    </tr>\n",
              "  </thead>\n",
              "  <tbody>\n",
              "    <tr>\n",
              "      <th>Customer_ID</th>\n",
              "      <td>int64</td>\n",
              "    </tr>\n",
              "    <tr>\n",
              "      <th>Satisfaction_Score</th>\n",
              "      <td>int64</td>\n",
              "    </tr>\n",
              "    <tr>\n",
              "      <th>Feedback_Comments</th>\n",
              "      <td>category</td>\n",
              "    </tr>\n",
              "    <tr>\n",
              "      <th>Likelihood_to_Recommend</th>\n",
              "      <td>int64</td>\n",
              "    </tr>\n",
              "  </tbody>\n",
              "</table>\n",
              "</div><br><label><b>dtype:</b> object</label>"
            ]
          },
          "metadata": {},
          "execution_count": 21
        }
      ]
    },
    {
      "cell_type": "code",
      "source": [
        "# Change Data types for Product Offering Data:\n",
        "\n",
        "# Convert 'Product_Type' to category\n",
        "products['Product_Type'] = products['Product_Type'].astype('category')\n",
        "\n",
        "# Convert 'Risk_Level' to category\n",
        "products['Risk_Level'] = products['Risk_Level'].astype('category')\n",
        "\n",
        "# Convert 'Target_Income_Group' to category\n",
        "products['Target_Income_Group'] = products['Target_Income_Group'].astype('category')\n",
        "\n",
        "# Check data types\n",
        "products.dtypes"
      ],
      "metadata": {
        "colab": {
          "base_uri": "https://localhost:8080/",
          "height": 241
        },
        "id": "ndd3s0J1ORrB",
        "outputId": "43c2257f-7fa8-4711-9ca9-11b8570c1329"
      },
      "execution_count": null,
      "outputs": [
        {
          "output_type": "execute_result",
          "data": {
            "text/plain": [
              "Product_ID                int64\n",
              "Product_Name             object\n",
              "Product_Type           category\n",
              "Risk_Level             category\n",
              "Target_Income_Group    category\n",
              "dtype: object"
            ],
            "text/html": [
              "<div>\n",
              "<style scoped>\n",
              "    .dataframe tbody tr th:only-of-type {\n",
              "        vertical-align: middle;\n",
              "    }\n",
              "\n",
              "    .dataframe tbody tr th {\n",
              "        vertical-align: top;\n",
              "    }\n",
              "\n",
              "    .dataframe thead th {\n",
              "        text-align: right;\n",
              "    }\n",
              "</style>\n",
              "<table border=\"1\" class=\"dataframe\">\n",
              "  <thead>\n",
              "    <tr style=\"text-align: right;\">\n",
              "      <th></th>\n",
              "      <th>0</th>\n",
              "    </tr>\n",
              "  </thead>\n",
              "  <tbody>\n",
              "    <tr>\n",
              "      <th>Product_ID</th>\n",
              "      <td>int64</td>\n",
              "    </tr>\n",
              "    <tr>\n",
              "      <th>Product_Name</th>\n",
              "      <td>object</td>\n",
              "    </tr>\n",
              "    <tr>\n",
              "      <th>Product_Type</th>\n",
              "      <td>category</td>\n",
              "    </tr>\n",
              "    <tr>\n",
              "      <th>Risk_Level</th>\n",
              "      <td>category</td>\n",
              "    </tr>\n",
              "    <tr>\n",
              "      <th>Target_Income_Group</th>\n",
              "      <td>category</td>\n",
              "    </tr>\n",
              "  </tbody>\n",
              "</table>\n",
              "</div><br><label><b>dtype:</b> object</label>"
            ]
          },
          "metadata": {},
          "execution_count": 22
        }
      ]
    },
    {
      "cell_type": "code",
      "source": [
        "# Change Data types for Transaction Dat\n",
        "\n",
        "# Convert 'Transaction_Date' to datetime\n",
        "transactions['Transaction_Date'] = pd.to_datetime(transactions['Transaction_Date'])\n",
        "\n",
        "# Convert 'Transaction_Type' to category\n",
        "transactions['Transaction_Type'] = transactions['Transaction_Type'].astype('category')\n",
        "\n",
        "# Check data types\n",
        "transactions.dtypes"
      ],
      "metadata": {
        "colab": {
          "base_uri": "https://localhost:8080/",
          "height": 241
        },
        "id": "VIBsAYw7QAGE",
        "outputId": "cb68ed8c-6493-433f-e413-8c4bf7503a40"
      },
      "execution_count": null,
      "outputs": [
        {
          "output_type": "execute_result",
          "data": {
            "text/plain": [
              "Transaction_ID                 int64\n",
              "Customer_ID                    int64\n",
              "Transaction_Date      datetime64[ns]\n",
              "Transaction_Amount           float64\n",
              "Transaction_Type            category\n",
              "dtype: object"
            ],
            "text/html": [
              "<div>\n",
              "<style scoped>\n",
              "    .dataframe tbody tr th:only-of-type {\n",
              "        vertical-align: middle;\n",
              "    }\n",
              "\n",
              "    .dataframe tbody tr th {\n",
              "        vertical-align: top;\n",
              "    }\n",
              "\n",
              "    .dataframe thead th {\n",
              "        text-align: right;\n",
              "    }\n",
              "</style>\n",
              "<table border=\"1\" class=\"dataframe\">\n",
              "  <thead>\n",
              "    <tr style=\"text-align: right;\">\n",
              "      <th></th>\n",
              "      <th>0</th>\n",
              "    </tr>\n",
              "  </thead>\n",
              "  <tbody>\n",
              "    <tr>\n",
              "      <th>Transaction_ID</th>\n",
              "      <td>int64</td>\n",
              "    </tr>\n",
              "    <tr>\n",
              "      <th>Customer_ID</th>\n",
              "      <td>int64</td>\n",
              "    </tr>\n",
              "    <tr>\n",
              "      <th>Transaction_Date</th>\n",
              "      <td>datetime64[ns]</td>\n",
              "    </tr>\n",
              "    <tr>\n",
              "      <th>Transaction_Amount</th>\n",
              "      <td>float64</td>\n",
              "    </tr>\n",
              "    <tr>\n",
              "      <th>Transaction_Type</th>\n",
              "      <td>category</td>\n",
              "    </tr>\n",
              "  </tbody>\n",
              "</table>\n",
              "</div><br><label><b>dtype:</b> object</label>"
            ]
          },
          "metadata": {},
          "execution_count": 23
        }
      ]
    },
    {
      "cell_type": "markdown",
      "source": [
        "# **Feature Engineering?**"
      ],
      "metadata": {
        "id": "Q4oRl-EnURzR"
      }
    },
    {
      "cell_type": "code",
      "source": [
        "# prompt: list unique values in transaction type and prodyct type\n",
        "\n",
        "print(transactions['Transaction_Type'].unique())\n",
        "print(products['Product_Type'].unique())"
      ],
      "metadata": {
        "colab": {
          "base_uri": "https://localhost:8080/"
        },
        "id": "cSxNmlZsTWIU",
        "outputId": "efe6f46b-c935-4056-c779-a1cb50e8fda2"
      },
      "execution_count": null,
      "outputs": [
        {
          "output_type": "stream",
          "name": "stdout",
          "text": [
            "['Purchase', 'Bill Payment', 'Investment', 'Loan Payment']\n",
            "Categories (4, object): ['Bill Payment', 'Investment', 'Loan Payment', 'Purchase']\n",
            "['Credit Card', 'Savings Account', 'Investment', 'Loan']\n",
            "Categories (4, object): ['Credit Card', 'Investment', 'Loan', 'Savings Account']\n"
          ]
        }
      ]
    }
  ]
}